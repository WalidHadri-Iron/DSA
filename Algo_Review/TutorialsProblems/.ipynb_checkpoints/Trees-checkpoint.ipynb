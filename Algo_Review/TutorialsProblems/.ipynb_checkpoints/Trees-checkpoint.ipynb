{
 "cells": [
  {
   "cell_type": "markdown",
   "metadata": {},
   "source": [
    "# Trees"
   ]
  },
  {
   "cell_type": "code",
   "execution_count": 75,
   "metadata": {},
   "outputs": [],
   "source": [
    "class Node:\n",
    "    \"\"\"\n",
    "    Node are supposed to have two children at max (Binary tree)\n",
    "    \"\"\"\n",
    "    def __init__(self, data = None, left = None, right = None):\n",
    "        self.data = data\n",
    "        self.left = left\n",
    "        self.right = right\n",
    "class GenericNode:\n",
    "    \"\"\"\n",
    "    This class works when nodes can have more than two children\n",
    "    \"\"\"\n",
    "    def __init__(self, data = None, nodes = []):\n",
    "        self.data = data\n",
    "        self.nodes = nodes"
   ]
  },
  {
   "cell_type": "code",
   "execution_count": 62,
   "metadata": {},
   "outputs": [],
   "source": [
    "tree = Node(1)\n",
    "tree.left = Node(2)\n",
    "tree.right = Node(3)\n",
    "tree.left.left = Node(4)\n",
    "tree.left.right = Node(5)"
   ]
  },
  {
   "cell_type": "markdown",
   "metadata": {},
   "source": [
    "Inorder traversal\n",
    "\n",
    "    First, visit all the nodes in the left subtree\n",
    "    Then the root node\n",
    "    Visit all the nodes in the right subtree\n",
    "\n",
    "Preorder traversal\n",
    "\n",
    "    Visit root node\n",
    "    Visit all the nodes in the left subtree\n",
    "    Visit all the nodes in the right subtree\n",
    "    \n",
    "Postorder traversal\n",
    "\n",
    "    Visit all the nodes in the left subtree\n",
    "    Visit all the nodes in the right subtree\n",
    "    Visit the root node\n",
    "\n"
   ]
  },
  {
   "cell_type": "code",
   "execution_count": 73,
   "metadata": {},
   "outputs": [],
   "source": [
    "def inorderTraversal(tree):\n",
    "#     out = \"\"\n",
    "    if tree:\n",
    "        inorderTraversal(tree.left)\n",
    "#         out += inorderTraversal(tree.left)\n",
    "        print(str(tree.data) + \"->\", end=\"\")\n",
    "#         out += str(tree.data) + \"->\"\n",
    "        inorderTraversal(tree.right)\n",
    "#         out += inorderTraversal(tree.right)\n",
    "\n",
    "def preorderTraversal(tree):\n",
    "    if tree:\n",
    "        print(str(tree.data) + \"->\", end=\"\")\n",
    "        preorderTraversal(tree.left)\n",
    "        preorderTraversal(tree.right)\n",
    "        \n",
    "def postorderTraversal(tree):\n",
    "    if tree:\n",
    "        postorderTraversal(tree.left)\n",
    "        postorderTraversal(tree.right)\n",
    "        print(str(tree.data) + \"->\", end=\"\")"
   ]
  },
  {
   "cell_type": "code",
   "execution_count": 74,
   "metadata": {},
   "outputs": [
    {
     "name": "stdout",
     "output_type": "stream",
     "text": [
      "4->2->5->1->3->\n",
      "1->2->4->5->3->\n",
      "4->5->2->3->1->"
     ]
    }
   ],
   "source": [
    "inorderTraversal(tree)\n",
    "print()\n",
    "preorderTraversal(tree)\n",
    "print()\n",
    "postorderTraversal(tree)"
   ]
  },
  {
   "cell_type": "code",
   "execution_count": null,
   "metadata": {},
   "outputs": [],
   "source": []
  }
 ],
 "metadata": {
  "kernelspec": {
   "display_name": "Python 3",
   "language": "python",
   "name": "python3"
  },
  "language_info": {
   "codemirror_mode": {
    "name": "ipython",
    "version": 3
   },
   "file_extension": ".py",
   "mimetype": "text/x-python",
   "name": "python",
   "nbconvert_exporter": "python",
   "pygments_lexer": "ipython3",
   "version": "3.7.3"
  }
 },
 "nbformat": 4,
 "nbformat_minor": 4
}
