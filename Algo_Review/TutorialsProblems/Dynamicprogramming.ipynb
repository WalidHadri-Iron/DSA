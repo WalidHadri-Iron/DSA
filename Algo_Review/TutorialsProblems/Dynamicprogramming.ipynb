{
 "cells": [
  {
   "cell_type": "markdown",
   "metadata": {},
   "source": [
    "# Dynamic programming"
   ]
  },
  {
   "cell_type": "markdown",
   "metadata": {},
   "source": [
    "## Find the maximum path in a matrix starting from (0,0) to (m-1,n-1)"
   ]
  },
  {
   "cell_type": "code",
   "execution_count": 1,
   "metadata": {},
   "outputs": [],
   "source": [
    "import numpy as np"
   ]
  },
  {
   "cell_type": "code",
   "execution_count": 2,
   "metadata": {},
   "outputs": [],
   "source": [
    "def max_path_finder_index(a, i , j, seen, score, path):\n",
    "    if i == 0 and j == 0:\n",
    "        path[(i,j)] = [(i,j)]\n",
    "        seen[i][j] = 1\n",
    "        return a[0][0], path[(i,j)]\n",
    "    if seen[i][j] != 0:\n",
    "        return score[i][j], path[(i,j)]\n",
    "    seen[i][j] = 1\n",
    "    if i>0 and j>0:\n",
    "        from_top = max_path_finder_index(a, i-1,j, seen, score, path)\n",
    "        from_left = max_path_finder_index(a, i,j-1, seen, score, path)\n",
    "        if from_top[0]>from_left[0]:\n",
    "            max_choose = from_top\n",
    "        else:\n",
    "            max_choose = from_left\n",
    "        score[i][j] = max_choose[0] + a[i][j]\n",
    "        path[(i,j)] = max_choose[1] + [(i,j)]\n",
    "    if j == 0:\n",
    "        score[i][j] = max_path_finder_index(a, i-1,j, seen, score, path)[0] + a[i][j]\n",
    "        path[(i,j)] = max_path_finder_index(a, i-1 , j, seen, score, path)[1]+[(i,j)]\n",
    "    if i == 0:\n",
    "        score[i][j] = max_path_finder_index(a, i,j-1, seen, score, path)[0] + a[i][j]\n",
    "        path[(i,j)] = max_path_finder_index(a, i,j-1, seen, score, path)[1]+[(i,j)]\n",
    "    return score[i][j], path[(i,j)]"
   ]
  },
  {
   "cell_type": "code",
   "execution_count": 3,
   "metadata": {},
   "outputs": [],
   "source": [
    "def max_path_finder(a):\n",
    "    m = len(a)\n",
    "    n = len(a[0])\n",
    "    seen = np.zeros((m,n))\n",
    "    score = np.zeros((m,n))\n",
    "    L = [(i,j) for i in range(n) for j in range(m)]\n",
    "    path = dict()\n",
    "    return max_path_finder_index(a, len(a)-1, len(a[0])-1, seen, score, path)"
   ]
  },
  {
   "cell_type": "code",
   "execution_count": 4,
   "metadata": {},
   "outputs": [],
   "source": [
    "#Time complexity O(m*n)"
   ]
  },
  {
   "cell_type": "code",
   "execution_count": 5,
   "metadata": {},
   "outputs": [],
   "source": [
    "assert max_path_finder([[1, 2, 3], [3, 4, 5]]) == (13, [(0, 0), (1, 0), (1, 1), (1, 2)])\n",
    "assert max_path_finder([[1, 2, 25], [3, 4, 5]]) == (33, [(0, 0), (0, 1), (0, 2), (1, 2)])\n",
    "assert max_path_finder([[1, 0, 0], [1, 0, 0], [1, 0, 0], [1, 0, 0], [1, 0, 0]]) == (5, [(0, 0), (1, 0), (2, 0), (3, 0), (4, 0), (4, 1), (4, 2)])\n",
    "assert max_path_finder([[1, 0, 5], [1, 0, 0], [1, 0, 0], [1, 0, 0], [1, 0, 0]]) == (6, [(0, 0), (0, 1), (0, 2), (1, 2), (2, 2), (3, 2), (4, 2)])\n",
    "assert max_path_finder([[1, 0, 5], [1, 0, 0], [1, 10, 1], [1, 0, 1], [1, 0, 0]]) == (15, [(0, 0), (1, 0), (2, 0), (2, 1), (2, 2), (3, 2), (4, 2)])"
   ]
  }
 ],
 "metadata": {
  "kernelspec": {
   "display_name": "Python 3",
   "language": "python",
   "name": "python3"
  },
  "language_info": {
   "codemirror_mode": {
    "name": "ipython",
    "version": 3
   },
   "file_extension": ".py",
   "mimetype": "text/x-python",
   "name": "python",
   "nbconvert_exporter": "python",
   "pygments_lexer": "ipython3",
   "version": "3.7.3"
  }
 },
 "nbformat": 4,
 "nbformat_minor": 4
}
