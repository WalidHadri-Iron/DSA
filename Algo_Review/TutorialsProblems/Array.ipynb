{
 "cells": [
  {
   "cell_type": "markdown",
   "metadata": {},
   "source": [
    "# Arrays"
   ]
  },
  {
   "cell_type": "code",
   "execution_count": 1,
   "metadata": {},
   "outputs": [
    {
     "name": "stdout",
     "output_type": "stream",
     "text": [
      "Displaying the elements of the array a: 1 4 5 -9 4 \n",
      "\n",
      "Add 3 the end of the array: 1 4 5 -9 4 3 \n",
      "\n",
      "Inserting 2 to the index 3: 1 4 5 2 -9 4 3 \n",
      "\n",
      "Couting number of 4s in the array: 2\n",
      "\n",
      "Deleting the element of index 1: 1 5 2 2 -9 4 3 \n",
      "\n"
     ]
    }
   ],
   "source": [
    "import array\n",
    "a = array.array('i',[1,4,5,-9,4])\n",
    "def display(a):\n",
    "    for i in a:\n",
    "        print(i, end=\" \")\n",
    "    print()\n",
    "\n",
    "print(\"Displaying the elements of the array a: \", end=\"\")\n",
    "display(a)\n",
    "a.append(3)\n",
    "print()\n",
    "\n",
    "print(\"Add 3 the end of the array: \", end=\"\")\n",
    "display(a)\n",
    "print()\n",
    "\n",
    "a.insert(3, 2)\n",
    "print(\"Inserting 2 to the index 3: \", end=\"\")\n",
    "display(a)\n",
    "a.insert(3, 2)\n",
    "print()\n",
    "\n",
    "print(\"Couting number of 4s in the array: \", end=\"\")\n",
    "print(a.count(4))\n",
    "print()\n",
    "\n",
    "\n",
    "print(\"Deleting the element of index 1: \", end=\"\")\n",
    "a.pop(1)\n",
    "display(a)\n",
    "print()"
   ]
  },
  {
   "cell_type": "markdown",
   "metadata": {},
   "source": [
    "Many other methods are avaible for the class of arrays, check help(array)"
   ]
  },
  {
   "cell_type": "markdown",
   "metadata": {},
   "source": [
    "### Array rotation\n",
    "\n",
    "Write a function rotate(arr[], d, n) that rotates arr[] of size n by d elements.\n",
    "\n",
    "We will consider right the direction of the rotation"
   ]
  },
  {
   "cell_type": "code",
   "execution_count": 2,
   "metadata": {},
   "outputs": [
    {
     "name": "stdout",
     "output_type": "stream",
     "text": [
      "Before rotation of the array: 1 2 4 5 4 7 \n",
      "Rotation right by 2: 4 7 1 2 4 5 \n"
     ]
    }
   ],
   "source": [
    "def rotate_by_one(arr,n):\n",
    "    last_item = arr[n-1]\n",
    "    for i in range(n-2,-1,-1):\n",
    "        arr[i+1] = arr[i]\n",
    "    arr[0] = last_item\n",
    "    return arr\n",
    "def rotate_by_d(arr, d, n):\n",
    "    for i in range(d):\n",
    "        rotate_by_one(arr, n)\n",
    "    return arr\n",
    "a = array.array('i',[1,2,4,5,4,7])\n",
    "print(\"Before rotation of the array: \", end=\"\")\n",
    "display(a)\n",
    "print('Rotation right by 2: ', end=\"\")\n",
    "display(rotate_by_d(a, 2, 6))"
   ]
  },
  {
   "cell_type": "code",
   "execution_count": 3,
   "metadata": {},
   "outputs": [
    {
     "name": "stdout",
     "output_type": "stream",
     "text": [
      "Before rotation of the array: 1 2 4 5 4 7 \n",
      "Rotation right by 2: 4 5 4 7 1 2 \n"
     ]
    }
   ],
   "source": [
    "# Another way to do it\n",
    "def rotate_method2(arr, d, n):\n",
    "    first_d_items = arr[:d]\n",
    "    items_after = arr[d:]\n",
    "    return items_after + first_d_items\n",
    "a = array.array('i',[1,2,4,5,4,7])\n",
    "print(\"Before rotation of the array: \", end=\"\")\n",
    "display(a)\n",
    "print('Rotation right by 2: ', end=\"\")\n",
    "display(rotate_method2(a, 2, 6))"
   ]
  },
  {
   "cell_type": "markdown",
   "metadata": {},
   "source": [
    " There is another way to do this by a Juggling Algorithm, see [here](https://www.geeksforgeeks.org/array-rotation/)"
   ]
  },
  {
   "cell_type": "markdown",
   "metadata": {},
   "source": [
    "# Problem: Search an element in a sorted and rotated array\n",
    "We have a sorted array in increasing order but it is rotated by some pivot. And we want to peform a search of element in this array in time complexity O(n)\n",
    "\n",
    "My approach is to use the same strategy in the binary search to find the pivot and then perform the search on each part of the array.\n",
    "\n",
    "Since at the pivot the difference between the value at it and the value at the next element should be negative (for the case of increasing order)"
   ]
  },
  {
   "cell_type": "code",
   "execution_count": 302,
   "metadata": {},
   "outputs": [],
   "source": [
    "## This function given a rotated array sorted in an increasing order find the pivot defined as the first element less that the previous one\n",
    "def find_pivot(arr, n):\n",
    "    if n==1:\n",
    "        return -1\n",
    "    if n == 2:\n",
    "        if arr[n-1]<arr[n-2]:\n",
    "            return n-1\n",
    "    m = n//2\n",
    "    if arr[m]>arr[m+1]:\n",
    "        return m+1\n",
    "    if arr[m]<arr[m-1]:\n",
    "        return m\n",
    "    if arr[0]<arr[m]:\n",
    "        return find_pivot(arr[m+1:], n-m-1) + m + 1\n",
    "    return find_pivot(arr[:m], m)\n",
    "        \n",
    "        \n",
    "        \n",
    "## Once the pivot is found, we perform binary search in each part of the array splitted on the pivot\n",
    "def binary_search (arr, l, r, x): \n",
    "    if r >= l: \n",
    "        mid = l + (r - l) // 2\n",
    "        if arr[mid] == x: \n",
    "            return mid \n",
    "        elif arr[mid] > x: \n",
    "            return binarySearch(arr, l, mid-1, x) \n",
    "        else: \n",
    "            return binarySearch(arr, mid + 1, r, x) \n",
    "    else: \n",
    "        return -1\n",
    "def binary_search_rotated(arr, n, element):\n",
    "    pivot = find_pivot(arr, n)\n",
    "    if arr[pivot] == element:\n",
    "        return pivot\n",
    "    elif arr[0]> element:\n",
    "        return binary_search(arr, pivot+1, n-1, element)\n",
    "    return binary_search(arr, 0, pivot-1, element)"
   ]
  },
  {
   "cell_type": "code",
   "execution_count": 310,
   "metadata": {},
   "outputs": [
    {
     "data": {
      "text/plain": [
       "2"
      ]
     },
     "execution_count": 310,
     "metadata": {},
     "output_type": "execute_result"
    }
   ],
   "source": [
    "a = array.array('i',[3,4,5,6,7,1,2])\n",
    "binary_search_rotated(a, 7, 5)"
   ]
  },
  {
   "cell_type": "markdown",
   "metadata": {},
   "source": [
    "The time complexity is O(log(n)), space complexity is O(1)"
   ]
  },
  {
   "cell_type": "markdown",
   "metadata": {},
   "source": [
    "Another method to go through the array one time without look for the pivot and using the fact that we can detect if a part of the array is sorted or not (it means contains the pivot or not)"
   ]
  },
  {
   "cell_type": "code",
   "execution_count": 313,
   "metadata": {},
   "outputs": [],
   "source": [
    "def binary_search_rotatedv2(arr, start, end, element):\n",
    "    if start>end:\n",
    "        return -1\n",
    "    mid = start + (end - start)//2\n",
    "    if arr[mid] == element:\n",
    "        return mid\n",
    "    \n",
    "    #Check if the part arr[start,mid] is sorted\n",
    "    if arr[start]<arr[mid]:\n",
    "        if element>arr[start] and element<arr[mid]:\n",
    "            return binary_search_rotatedv2(arr, start, mid-1, element)\n",
    "        return binary_search_rotatedv2(arr, mid+1, end, element)\n",
    "    else:\n",
    "        if element<arr[end] and element>arr[mid]:\n",
    "            return binary_search_rotatedv2(arr, mid + 1, end, element)\n",
    "        return binary_search_rotatedv2(arr, start, mid -1 , element)"
   ]
  },
  {
   "cell_type": "code",
   "execution_count": 316,
   "metadata": {},
   "outputs": [
    {
     "data": {
      "text/plain": [
       "2"
      ]
     },
     "execution_count": 316,
     "metadata": {},
     "output_type": "execute_result"
    }
   ],
   "source": [
    "binary_search_rotatedv2(a, 0, 6, 5)"
   ]
  },
  {
   "cell_type": "markdown",
   "metadata": {},
   "source": [
    "The time complexity is O(log(n)), space complexity is O(1)"
   ]
  },
  {
   "cell_type": "markdown",
   "metadata": {},
   "source": [
    "## Problem: In a sorted array search for a pair that is equal to a given sum\n",
    "\n",
    "The idea is start by the elements in the edges, let l = (a1, a2, ....., an) with a1<a2<.....<an. \n",
    "\n",
    "Let S be the sum we are looking for, if a1 + an>Sum we should decrease the end, so at some step:\n",
    "        \n",
    "        if ai+aj>S we decrease j\n",
    "        if ai+aj<S we increase j\n",
    "        if ai+aj=S we are in\n",
    "        we repeat that while i<j"
   ]
  },
  {
   "cell_type": "code",
   "execution_count": 317,
   "metadata": {},
   "outputs": [],
   "source": [
    "def look_pair(arr, start, end, S):\n",
    "    if end>=start:\n",
    "        if arr[start] + arr[end] == S:\n",
    "            return arr[start], arr[end]\n",
    "        elif arr[start] + arr[end] > S:\n",
    "            return look_pair(arr, start, end-1, S)\n",
    "        else:\n",
    "            return look_pair(arr, start + 1, end, S)\n",
    "    return -1"
   ]
  },
  {
   "cell_type": "code",
   "execution_count": 337,
   "metadata": {},
   "outputs": [],
   "source": [
    "a = array.array('i', [2,3,4,6,8,9,10,15])"
   ]
  },
  {
   "cell_type": "code",
   "execution_count": 347,
   "metadata": {},
   "outputs": [
    {
     "data": {
      "text/plain": [
       "(6, 10)"
      ]
     },
     "execution_count": 347,
     "metadata": {},
     "output_type": "execute_result"
    }
   ],
   "source": [
    "look_pair(a, 0, 7, 16)"
   ]
  },
  {
   "cell_type": "code",
   "execution_count": 350,
   "metadata": {},
   "outputs": [],
   "source": [
    "def look_pair_general(arr, n, S):\n",
    "    s = set()\n",
    "    for i in range(n):\n",
    "        if (S-arr[i]) in s:\n",
    "            return arr[i], S-arr[i]\n",
    "        s.add(arr[i])\n",
    "    return -1"
   ]
  },
  {
   "cell_type": "code",
   "execution_count": 351,
   "metadata": {},
   "outputs": [
    {
     "data": {
      "text/plain": [
       "(10, 6)"
      ]
     },
     "execution_count": 351,
     "metadata": {},
     "output_type": "execute_result"
    }
   ],
   "source": [
    "look_pair_general(a, 7, 16)"
   ]
  },
  {
   "cell_type": "markdown",
   "metadata": {},
   "source": [
    "# Problem: program to reverse an array\n",
    "\n",
    "We can do it also recursively, here it's done iteratively"
   ]
  },
  {
   "cell_type": "code",
   "execution_count": 1,
   "metadata": {},
   "outputs": [],
   "source": [
    "def reverse_array(arr, n):\n",
    "    start = 0\n",
    "    end = n-1\n",
    "    while start < end:\n",
    "        arr[start], arr[end] = arr[end], arr[start]\n",
    "        start+= 1\n",
    "        end-= 1"
   ]
  },
  {
   "cell_type": "code",
   "execution_count": 4,
   "metadata": {},
   "outputs": [
    {
     "data": {
      "text/plain": [
       "array('i', [15, 10, 9, 8, 6, 4, 4, 3, 2])"
      ]
     },
     "execution_count": 4,
     "metadata": {},
     "output_type": "execute_result"
    }
   ],
   "source": [
    "a = array.array('i', [2,3,4,4,6,8,9,10,15])\n",
    "reverse_array(a, 9)\n",
    "a"
   ]
  },
  {
   "cell_type": "code",
   "execution_count": null,
   "metadata": {},
   "outputs": [],
   "source": []
  }
 ],
 "metadata": {
  "kernelspec": {
   "display_name": "Python 3",
   "language": "python",
   "name": "python3"
  },
  "language_info": {
   "codemirror_mode": {
    "name": "ipython",
    "version": 3
   },
   "file_extension": ".py",
   "mimetype": "text/x-python",
   "name": "python",
   "nbconvert_exporter": "python",
   "pygments_lexer": "ipython3",
   "version": "3.7.3"
  }
 },
 "nbformat": 4,
 "nbformat_minor": 4
}
