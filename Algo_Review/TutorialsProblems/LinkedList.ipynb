{
 "cells": [
  {
   "cell_type": "markdown",
   "metadata": {},
   "source": [
    "# Linked Lists"
   ]
  },
  {
   "cell_type": "code",
   "execution_count": 1,
   "metadata": {},
   "outputs": [
    {
     "name": "stdout",
     "output_type": "stream",
     "text": [
      "4 5 7 \n",
      "1 4 5 7 \n",
      "1 4 5 7 10 "
     ]
    }
   ],
   "source": [
    "## Creating a class for nodes and a class for linked lists\n",
    "class Node:\n",
    "    def __init__(self, data):\n",
    "        self.data = data\n",
    "        self.next = None\n",
    "class LinkedList:\n",
    "    def __init__(self, head=None):\n",
    "        self.head = head\n",
    "    def display(self):\n",
    "        \"\"\"\n",
    "        print the data in linkedlist\n",
    "        \"\"\"\n",
    "        x = self.head\n",
    "        while x:\n",
    "            print(x.data, end = \" \")\n",
    "            x = x.next\n",
    "    def push(self, node):\n",
    "        \"\"\"\n",
    "        takes in a node and insert it as the head and first element in the linkedlist\n",
    "        \"\"\"\n",
    "        self.head, node.next = node, self.head\n",
    "    def append(self, node):\n",
    "        \"\"\"\n",
    "        add a node at the end of the linked list\n",
    "        \"\"\"\n",
    "        x = self.head\n",
    "        if self.head == None:\n",
    "            self.head = node\n",
    "            return\n",
    "        while x.next!=None:\n",
    "            x = x.next\n",
    "        x.next = node\n",
    "## Populating a linked list\n",
    "L = LinkedList(Node(4))\n",
    "L.head.next = Node(5)\n",
    "L.head.next.next = Node(7)\n",
    "L.display()\n",
    "print()\n",
    "L.push(Node(1))\n",
    "L.display()\n",
    "print()\n",
    "L.append(Node(10))\n",
    "L.display()"
   ]
  },
  {
   "cell_type": "code",
   "execution_count": 4,
   "metadata": {},
   "outputs": [],
   "source": [
    "L = LinkedList(Node(4))"
   ]
  },
  {
   "cell_type": "code",
   "execution_count": 6,
   "metadata": {},
   "outputs": [],
   "source": [
    "L.head.next"
   ]
  },
  {
   "cell_type": "code",
   "execution_count": null,
   "metadata": {},
   "outputs": [],
   "source": []
  }
 ],
 "metadata": {
  "kernelspec": {
   "display_name": "Python 3",
   "language": "python",
   "name": "python3"
  },
  "language_info": {
   "codemirror_mode": {
    "name": "ipython",
    "version": 3
   },
   "file_extension": ".py",
   "mimetype": "text/x-python",
   "name": "python",
   "nbconvert_exporter": "python",
   "pygments_lexer": "ipython3",
   "version": "3.7.3"
  }
 },
 "nbformat": 4,
 "nbformat_minor": 4
}
