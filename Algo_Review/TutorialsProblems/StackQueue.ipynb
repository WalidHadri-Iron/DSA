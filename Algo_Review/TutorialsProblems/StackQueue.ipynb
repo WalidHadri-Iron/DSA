{
 "cells": [
  {
   "cell_type": "markdown",
   "metadata": {},
   "source": [
    "# Stacks and Queues"
   ]
  },
  {
   "cell_type": "markdown",
   "metadata": {},
   "source": [
    "### Implementing stacks using lists"
   ]
  },
  {
   "cell_type": "code",
   "execution_count": 21,
   "metadata": {},
   "outputs": [
    {
     "name": "stdout",
     "output_type": "stream",
     "text": [
      "4\n",
      "False\n"
     ]
    }
   ],
   "source": [
    "def isEmpty(stack):\n",
    "    if len(stack) == 0:\n",
    "        return True\n",
    "    return False\n",
    "def top(stack):\n",
    "    if isEmpty(stack):\n",
    "        return None\n",
    "    return stack[-1]\n",
    "stack = []\n",
    "stack.append(5)\n",
    "stack.pop()\n",
    "stack.append(4)\n",
    "print(top(stack))\n",
    "print(isEmpty(stack))"
   ]
  },
  {
   "cell_type": "markdown",
   "metadata": {},
   "source": [
    "### Implementing stacks using deque"
   ]
  },
  {
   "cell_type": "code",
   "execution_count": 29,
   "metadata": {},
   "outputs": [
    {
     "name": "stdout",
     "output_type": "stream",
     "text": [
      "6\n"
     ]
    },
    {
     "data": {
      "text/plain": [
       "1"
      ]
     },
     "execution_count": 29,
     "metadata": {},
     "output_type": "execute_result"
    }
   ],
   "source": [
    "from collections import deque\n",
    "\n",
    "stack = deque()\n",
    "stack.append(5)\n",
    "stack.append(6)\n",
    "print(stack.pop())"
   ]
  },
  {
   "cell_type": "markdown",
   "metadata": {},
   "source": [
    "## Implementation using queue module"
   ]
  },
  {
   "cell_type": "code",
   "execution_count": 39,
   "metadata": {},
   "outputs": [
    {
     "name": "stdout",
     "output_type": "stream",
     "text": [
      "The maximum size of the stack is:  3\n",
      "Is the stack empty?:  True\n",
      "Is the stack full?:  False\n",
      "After inestion of 4 10 1 in this exact order\n",
      "Is the stack empty?:  False\n",
      "Is the stack full?:  True\n"
     ]
    }
   ],
   "source": [
    "from queue import LifoQueue\n",
    "\n",
    "stack = LifoQueue(maxsize = 3)\n",
    "print(\"The maximum size of the stack is: \", stack.maxsize)\n",
    "print(\"Is the stack empty?: \", stack.empty())\n",
    "print(\"Is the stack full?: \", stack.full())\n",
    "stack.put(4)\n",
    "stack.put(10)\n",
    "stack.put(1)\n",
    "print(\"After inestion of 4 10 1 in this exact order\")\n",
    "print(\"Is the stack empty?: \", stack.empty())\n",
    "print(\"Is the stack full?: \", stack.full())"
   ]
  },
  {
   "cell_type": "code",
   "execution_count": 3,
   "metadata": {},
   "outputs": [
    {
     "name": "stdout",
     "output_type": "stream",
     "text": [
      "Stack: 10->9->8->7->6->5->4->3->2->1\n",
      "Pop: 10\n",
      "Pop: 9\n",
      "Pop: 8\n",
      "Pop: 7\n",
      "Pop: 6\n",
      "Stack: 5->4->3->2->1\n"
     ]
    }
   ],
   "source": [
    "class Node:\n",
    "    def __init__(self, data):\n",
    "        self.data = data\n",
    "        self.next = None\n",
    "class Stack:\n",
    "    def __init__(self):\n",
    "        self.head = None\n",
    "        self.size = 0\n",
    "    def isEmpty(self):\n",
    "        if self.size == 0:\n",
    "            return True\n",
    "        return False\n",
    "    def getsize(self):\n",
    "        return self.size\n",
    "    def peek(self):\n",
    "        if self.isEmpty():\n",
    "            print('The stack is empty')\n",
    "        return self.head.data\n",
    "    def push(self, node):\n",
    "        if self.isEmpty():\n",
    "            self.head = node\n",
    "        else:\n",
    "            self.head, node.next = node, self.head\n",
    "        self.size += 1\n",
    "    def pop(self):\n",
    "        if self.isEmpty():\n",
    "            print(\"the stack is already empty\")\n",
    "        else:\n",
    "            toremove = self.head\n",
    "            self.head = self.head.next\n",
    "            self.size -= 1\n",
    "            return toremove\n",
    "    def __str__(self):\n",
    "        out = \"\"\n",
    "        x = self.head\n",
    "        while x:\n",
    "            out += str(x.data) + \"->\"\n",
    "            x = x.next\n",
    "        return out[:-2]\n",
    "\n",
    "stack = Stack()    \n",
    "for i in range(1, 11):\n",
    "    stack.push(Node(i))\n",
    "print(f\"Stack: {stack}\")\n",
    " \n",
    "for i in range(1, 6):\n",
    "    remove = stack.pop()\n",
    "    print(f\"Pop: {remove.data}\")\n",
    "print(f\"Stack: {stack}\")"
   ]
  },
  {
   "cell_type": "markdown",
   "metadata": {},
   "source": [
    "# implemeting queue class from scratch"
   ]
  }
 ],
 "metadata": {
  "kernelspec": {
   "display_name": "Python 3",
   "language": "python",
   "name": "python3"
  },
  "language_info": {
   "codemirror_mode": {
    "name": "ipython",
    "version": 3
   },
   "file_extension": ".py",
   "mimetype": "text/x-python",
   "name": "python",
   "nbconvert_exporter": "python",
   "pygments_lexer": "ipython3",
   "version": "3.7.3"
  }
 },
 "nbformat": 4,
 "nbformat_minor": 4
}
