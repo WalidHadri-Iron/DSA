{
 "cells": [
  {
   "cell_type": "markdown",
   "metadata": {},
   "source": [
    "# Euler Project: Problems from 1 - 50"
   ]
  },
  {
   "cell_type": "code",
   "execution_count": 5,
   "metadata": {},
   "outputs": [],
   "source": [
    "import numpy as np\n",
    "from math import ceil\n",
    "import math\n",
    "from math import factorial\n",
    "import sympy\n",
    "from sympy import sieve"
   ]
  },
  {
   "cell_type": "markdown",
   "metadata": {},
   "source": [
    "# Problem 51: Prime digit replacements\n",
    "\n",
    "[Link to problem 51 ](https://projecteuler.net/problem=51)"
   ]
  },
  {
   "cell_type": "code",
   "execution_count": 6,
   "metadata": {},
   "outputs": [
    {
     "data": {
      "text/plain": [
       "(543, 997651)"
      ]
     },
     "execution_count": 6,
     "metadata": {},
     "output_type": "execute_result"
    }
   ],
   "source": [
    "from sympy import sieve\n",
    "import sympy\n",
    "sieve._reset()\n",
    "sieve.extend_to_no(4000)\n",
    "a = list(sieve._list)[:-784]\n",
    "\n",
    "L = dict()\n",
    "out = 0\n",
    "n= 0 \n",
    "for i in range(len(a)-1):\n",
    "    for k in range(i+1,len(a)):\n",
    "        if sum(a[i:k])>1_000_000:\n",
    "            break\n",
    "            \n",
    "        if sympy.isprime(sum(a[i:k])):\n",
    "            L[i] = k\n",
    "            if len(a[i:k])>n:\n",
    "                n= len(a[i:k])\n",
    "                out = sum(a[i:k])\n",
    "        \n",
    "\n",
    "n, out"
   ]
  }
 ],
 "metadata": {
  "kernelspec": {
   "display_name": "Python 3",
   "language": "python",
   "name": "python3"
  },
  "language_info": {
   "codemirror_mode": {
    "name": "ipython",
    "version": 3
   },
   "file_extension": ".py",
   "mimetype": "text/x-python",
   "name": "python",
   "nbconvert_exporter": "python",
   "pygments_lexer": "ipython3",
   "version": "3.7.3"
  }
 },
 "nbformat": 4,
 "nbformat_minor": 4
}
