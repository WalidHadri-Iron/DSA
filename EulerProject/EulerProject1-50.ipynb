{
 "cells": [
  {
   "cell_type": "markdown",
   "metadata": {},
   "source": [
    "# Euler Project: Problems from 1 - 50"
   ]
  },
  {
   "cell_type": "code",
   "execution_count": 1,
   "metadata": {},
   "outputs": [],
   "source": [
    "import numpy as np\n",
    "from math import ceil\n",
    "import math\n",
    "# Allow several prints in one cell\n",
    "# from IPython.core.interactiveshell import InteractiveShell\n",
    "# InteractiveShell.ast_node_interactivity = \"all\"\n",
    "from math import factorial\n",
    "import sympy\n",
    "from sympy import sieve"
   ]
  },
  {
   "cell_type": "markdown",
   "metadata": {},
   "source": [
    "# Problem 1: Multiples of 3 and 5\n",
    "\n",
    "[Link to problem 1 ](https://projecteuler.net/problem=1)\n"
   ]
  },
  {
   "cell_type": "code",
   "execution_count": 2,
   "metadata": {},
   "outputs": [
    {
     "data": {
      "text/plain": [
       "233168"
      ]
     },
     "execution_count": 2,
     "metadata": {},
     "output_type": "execute_result"
    }
   ],
   "source": [
    "s = 0\n",
    "for i in range(1000):\n",
    "    if i%3==0 or i%5==0:\n",
    "        s+=i\n",
    "s"
   ]
  },
  {
   "cell_type": "markdown",
   "metadata": {},
   "source": [
    "# Problem 2: Even Fibonacci numbers\n",
    "\n",
    "[Link to problem 2 ](https://projecteuler.net/problem=2)"
   ]
  },
  {
   "cell_type": "code",
   "execution_count": 3,
   "metadata": {},
   "outputs": [],
   "source": [
    "def fibo_stupid(n):\n",
    "    if n==1:\n",
    "        return 1\n",
    "    if n==2:\n",
    "        return 2\n",
    "    return fibo_stupid(n-1) + fibo_stupid(n-2)\n",
    "fibo = {1:1, 2:2}\n",
    "def fibo_optimized(n):\n",
    "    if n not in fibo:\n",
    "        fibo[n] = fibo_optimized(n-1) + fibo_optimized(n-2)\n",
    "    return fibo[n]"
   ]
  },
  {
   "cell_type": "code",
   "execution_count": 4,
   "metadata": {},
   "outputs": [
    {
     "name": "stdout",
     "output_type": "stream",
     "text": [
      "CPU times: user 3.54 s, sys: 20.2 ms, total: 3.56 s\n",
      "Wall time: 3.59 s\n"
     ]
    },
    {
     "data": {
      "text/plain": [
       "4613732"
      ]
     },
     "execution_count": 4,
     "metadata": {},
     "output_type": "execute_result"
    }
   ],
   "source": [
    "%%time\n",
    "## we use the stupid method, notice also there is a beginner mistake which is calculating fibo_stupid two times instead of only one time\n",
    "result = 0\n",
    "n = 1\n",
    "while fibo_stupid(n) < 4_000_000:\n",
    "    n+=1\n",
    "    if fibo_stupid(n)%2 == 0:\n",
    "        result += fibo_stupid(n)\n",
    "result"
   ]
  },
  {
   "cell_type": "code",
   "execution_count": 5,
   "metadata": {},
   "outputs": [
    {
     "name": "stdout",
     "output_type": "stream",
     "text": [
      "CPU times: user 1.56 s, sys: 1.38 ms, total: 1.56 s\n",
      "Wall time: 1.57 s\n"
     ]
    },
    {
     "data": {
      "text/plain": [
       "4613732"
      ]
     },
     "execution_count": 5,
     "metadata": {},
     "output_type": "execute_result"
    }
   ],
   "source": [
    "%%time\n",
    "## Calculating only one time the fibonnaci term\n",
    "result = 0\n",
    "n = 1\n",
    "while True:\n",
    "    fibo_term = fibo_stupid(n)\n",
    "    if fibo_term>4_000_000:\n",
    "        break\n",
    "    if fibo_term%2 == 0:\n",
    "        result += fibo_term\n",
    "    n+=1\n",
    "result "
   ]
  },
  {
   "cell_type": "code",
   "execution_count": 6,
   "metadata": {},
   "outputs": [
    {
     "name": "stdout",
     "output_type": "stream",
     "text": [
      "CPU times: user 19 µs, sys: 4 µs, total: 23 µs\n",
      "Wall time: 24.1 µs\n"
     ]
    },
    {
     "data": {
      "text/plain": [
       "4613732"
      ]
     },
     "execution_count": 6,
     "metadata": {},
     "output_type": "execute_result"
    }
   ],
   "source": [
    "%%time\n",
    "## Using the optimized fibonacci\n",
    "while True:\n",
    "    fibo_term = fibo_optimized(n)\n",
    "    if fibo_term>4_000_000:\n",
    "        break\n",
    "    if fibo_term%2 == 0:\n",
    "        result += fibo_term\n",
    "    n+=1\n",
    "result "
   ]
  },
  {
   "cell_type": "markdown",
   "metadata": {},
   "source": [
    "#### 25µs against 3.39s !!!!"
   ]
  },
  {
   "cell_type": "markdown",
   "metadata": {},
   "source": [
    "# Problem 3: Largest prime factor\n",
    "\n",
    "[Link to problem 3 ](https://projecteuler.net/problem=3)\n",
    "\n",
    "Method 1\n",
    "    \n",
    "    Finding the divisors of n\n",
    "    Filtering the primes divisors\n",
    "    Choose the greatest prime divisor\n",
    "\n",
    "Method 2\n",
    "    \n",
    "    Verify if n is prime, if not:\n",
    "    In the search space (integers less than n/2) starting by the greatest check if that prime is a divisor of n and iterate back, break once one of them is found"
   ]
  },
  {
   "cell_type": "code",
   "execution_count": 7,
   "metadata": {},
   "outputs": [
    {
     "data": {
      "text/plain": [
       "6857"
      ]
     },
     "execution_count": 7,
     "metadata": {},
     "output_type": "execute_result"
    }
   ],
   "source": [
    "def largest_prime_divisor(n):\n",
    "    for divisor in sympy.divisors(n)[::-1]:\n",
    "        if sympy.isprime(divisor):\n",
    "            return divisor\n",
    "largest_prime_divisor(600851475143)"
   ]
  },
  {
   "cell_type": "markdown",
   "metadata": {},
   "source": [
    "# Problem 4: Largest palindrome product\n",
    "\n",
    "[Link to problem 4 ](https://projecteuler.net/problem=4)"
   ]
  },
  {
   "cell_type": "code",
   "execution_count": 8,
   "metadata": {},
   "outputs": [
    {
     "data": {
      "text/plain": [
       "906609"
      ]
     },
     "execution_count": 8,
     "metadata": {},
     "output_type": "execute_result"
    }
   ],
   "source": [
    "def isPalindrome(n):\n",
    "    if str(n) == str(n)[::-1]:\n",
    "        return True\n",
    "    return False\n",
    "result = 0\n",
    "for i in range(999,99,-1):\n",
    "    for j in range(i,99,-1):\n",
    "        if isPalindrome(i*j):\n",
    "            if i*j>result:\n",
    "                result = i*j\n",
    "result"
   ]
  },
  {
   "cell_type": "markdown",
   "metadata": {},
   "source": [
    "# Problem 5: Largest palindrome product\n",
    "\n",
    "[Link to problem 5 ](https://projecteuler.net/problem=5)"
   ]
  },
  {
   "cell_type": "code",
   "execution_count": 9,
   "metadata": {},
   "outputs": [
    {
     "data": {
      "text/plain": [
       "232792560"
      ]
     },
     "execution_count": 9,
     "metadata": {},
     "output_type": "execute_result"
    }
   ],
   "source": [
    "# Wet get the primes less than 20\n",
    "def lcm(a, b):\n",
    "    return abs(a*b) // math.gcd(a, b)\n",
    "## Here comes the trick with reduce\n",
    "L = list(range(1,21))\n",
    "from functools import reduce\n",
    "reduce(lcm, L)"
   ]
  },
  {
   "cell_type": "markdown",
   "metadata": {},
   "source": [
    "# Problem 6: Sum square difference\n",
    "\n",
    "[Link to problem 6 ](https://projecteuler.net/problem=6)\n",
    "\n",
    "Method1: Mathematics we know what the sum of squares is and the sum of the arithmetic series.\n",
    "\n",
    "Method2: iterate"
   ]
  },
  {
   "cell_type": "code",
   "execution_count": 10,
   "metadata": {},
   "outputs": [
    {
     "data": {
      "text/plain": [
       "(25164150, 25164150)"
      ]
     },
     "execution_count": 10,
     "metadata": {},
     "output_type": "execute_result"
    }
   ],
   "source": [
    "def method1(n):\n",
    "    return int((n*(n+1)/2)**2 - (n*(n+1)*(2*n+1))/6)\n",
    "def method2(n):\n",
    "    S1 = 0\n",
    "    S2 = 0\n",
    "    for i in range(n+1):\n",
    "        S1 += i\n",
    "        S2 += i**2\n",
    "    return S1**2 - S2\n",
    "method1(100), method2(100)"
   ]
  },
  {
   "cell_type": "markdown",
   "metadata": {},
   "source": [
    "# Problem 7: 10001st prime\n",
    "\n",
    "[Link to problem 7 ](https://projecteuler.net/problem=7)"
   ]
  },
  {
   "cell_type": "code",
   "execution_count": 11,
   "metadata": {},
   "outputs": [
    {
     "name": "stdout",
     "output_type": "stream",
     "text": [
      "104743\n"
     ]
    }
   ],
   "source": [
    "sieve.extend_to_no(10_001)\n",
    "print(list(sieve._list)[10_000])"
   ]
  },
  {
   "cell_type": "markdown",
   "metadata": {},
   "source": [
    "# Problem 8: Largest product in a series\n",
    "\n",
    "[Link to problem 8 ](https://projecteuler.net/problem=8)"
   ]
  },
  {
   "cell_type": "code",
   "execution_count": 12,
   "metadata": {},
   "outputs": [
    {
     "data": {
      "text/plain": [
       "23514624000"
      ]
     },
     "execution_count": 12,
     "metadata": {},
     "output_type": "execute_result"
    }
   ],
   "source": [
    "nbr_str = \"\"\"73167176531330624919225119674426574742355349194934\n",
    "96983520312774506326239578318016984801869478851843\n",
    "85861560789112949495459501737958331952853208805511\n",
    "12540698747158523863050715693290963295227443043557\n",
    "66896648950445244523161731856403098711121722383113\n",
    "62229893423380308135336276614282806444486645238749\n",
    "30358907296290491560440772390713810515859307960866\n",
    "70172427121883998797908792274921901699720888093776\n",
    "65727333001053367881220235421809751254540594752243\n",
    "52584907711670556013604839586446706324415722155397\n",
    "53697817977846174064955149290862569321978468622482\n",
    "83972241375657056057490261407972968652414535100474\n",
    "82166370484403199890008895243450658541227588666881\n",
    "16427171479924442928230863465674813919123162824586\n",
    "17866458359124566529476545682848912883142607690042\n",
    "24219022671055626321111109370544217506941658960408\n",
    "07198403850962455444362981230987879927244284909188\n",
    "84580156166097919133875499200524063689912560717606\n",
    "05886116467109405077541002256983155200055935729725\n",
    "71636269561882670428252483600823257530420752963450\"\"\"\n",
    "nbr_str = nbr_str.replace('\\n', '')\n",
    "list_numbers = [int(i) for i in list(nbr_str)]\n",
    "result = 0\n",
    "for i in range(len(list_numbers)-12):\n",
    "    if np.product(list_numbers[i: i+13])>result:\n",
    "        result = np.product(list_numbers[i: i+13])\n",
    "result"
   ]
  },
  {
   "cell_type": "markdown",
   "metadata": {},
   "source": [
    "# Problem 9: Special Pythagorean triplet\n",
    "\n",
    "[Link to problem 9 ](https://projecteuler.net/problem=9)"
   ]
  },
  {
   "cell_type": "code",
   "execution_count": 13,
   "metadata": {},
   "outputs": [
    {
     "name": "stdout",
     "output_type": "stream",
     "text": [
      "31875000\n"
     ]
    }
   ],
   "source": [
    "for a in range(1,1000):\n",
    "    for b in range(a,1000):\n",
    "        if 1000*(a+b)== a*b + 1000**2/2:\n",
    "            print(a*b*(1000-a-b))\n",
    "            break\n",
    "    else:\n",
    "        continue\n",
    "    break"
   ]
  },
  {
   "cell_type": "markdown",
   "metadata": {},
   "source": [
    "# Problem 10: Summation of primes\n",
    "\n",
    "[Link to problem 10 ](https://projecteuler.net/problem=10)"
   ]
  },
  {
   "cell_type": "code",
   "execution_count": 14,
   "metadata": {},
   "outputs": [
    {
     "data": {
      "text/plain": [
       "142913828922"
      ]
     },
     "execution_count": 14,
     "metadata": {},
     "output_type": "execute_result"
    }
   ],
   "source": [
    "primes = sieve.primerange(1, 2_000_000)\n",
    "sum(primes)"
   ]
  },
  {
   "cell_type": "markdown",
   "metadata": {},
   "source": [
    "# Problem 11: Largest product in a grid\n",
    "\n",
    "[Link to problem 11 ](https://projecteuler.net/problem=11)\n"
   ]
  },
  {
   "cell_type": "code",
   "execution_count": 15,
   "metadata": {},
   "outputs": [
    {
     "data": {
      "text/plain": [
       "70600674"
      ]
     },
     "execution_count": 15,
     "metadata": {},
     "output_type": "execute_result"
    }
   ],
   "source": [
    "list_str = \"\"\"08 02 22 97 38 15 00 40 00 75 04 05 07 78 52 12 50 77 91 08\n",
    "49 49 99 40 17 81 18 57 60 87 17 40 98 43 69 48 04 56 62 00\n",
    "81 49 31 73 55 79 14 29 93 71 40 67 53 88 30 03 49 13 36 65\n",
    "52 70 95 23 04 60 11 42 69 24 68 56 01 32 56 71 37 02 36 91\n",
    "22 31 16 71 51 67 63 89 41 92 36 54 22 40 40 28 66 33 13 80\n",
    "24 47 32 60 99 03 45 02 44 75 33 53 78 36 84 20 35 17 12 50\n",
    "32 98 81 28 64 23 67 10 26 38 40 67 59 54 70 66 18 38 64 70\n",
    "67 26 20 68 02 62 12 20 95 63 94 39 63 08 40 91 66 49 94 21\n",
    "24 55 58 05 66 73 99 26 97 17 78 78 96 83 14 88 34 89 63 72\n",
    "21 36 23 09 75 00 76 44 20 45 35 14 00 61 33 97 34 31 33 95\n",
    "78 17 53 28 22 75 31 67 15 94 03 80 04 62 16 14 09 53 56 92\n",
    "16 39 05 42 96 35 31 47 55 58 88 24 00 17 54 24 36 29 85 57\n",
    "86 56 00 48 35 71 89 07 05 44 44 37 44 60 21 58 51 54 17 58\n",
    "19 80 81 68 05 94 47 69 28 73 92 13 86 52 17 77 04 89 55 40\n",
    "04 52 08 83 97 35 99 16 07 97 57 32 16 26 26 79 33 27 98 66\n",
    "88 36 68 87 57 62 20 72 03 46 33 67 46 55 12 32 63 93 53 69\n",
    "04 42 16 73 38 25 39 11 24 94 72 18 08 46 29 32 40 62 76 36\n",
    "20 69 36 41 72 30 23 88 34 62 99 69 82 67 59 85 74 04 36 16\n",
    "20 73 35 29 78 31 90 01 74 31 49 71 48 86 81 16 23 57 05 54\n",
    "01 70 54 71 83 51 54 69 16 92 33 48 61 43 52 01 89 19 67 48\"\"\"\n",
    "list_str = list_str.replace('\\n', ' ')\n",
    "L = [int(i) for i in list_str.split(' ')]\n",
    "## AJOUTE CONGRUENCE\n",
    "result = 0\n",
    "for i in range(len(L)):\n",
    "    #Horizontal\n",
    "    if i%20<17:\n",
    "        if L[i]*L[i+1]*L[i+2]*L[i+3]>result:\n",
    "            result = L[i]*L[i+1]*L[i+2]*L[i+3]\n",
    "    #Vertical\n",
    "    if i<340:\n",
    "        if L[i]*L[i+20]*L[i+40]*L[i+60]>result:\n",
    "            result = L[i]*L[i+20]*L[i+40]*L[i+60]\n",
    "    #Diagonal 1\n",
    "    if i%20<17 and i<len(L)-63-1:\n",
    "        if L[i]*L[i+21]*L[i+42]*L[i+63]>result:\n",
    "            result = L[i]*L[i+21]*L[i+42]*L[i+63]\n",
    "    #Diagonal 2\n",
    "    if i%20>3 and i<len(L)-57-1:\n",
    "        if L[i]*L[i+19]*L[i+38]*L[i+57]>result:\n",
    "            result=L[i]*L[i+19]*L[i+38]*L[i+57]\n",
    "result"
   ]
  },
  {
   "cell_type": "markdown",
   "metadata": {},
   "source": [
    "# Problem 12: Highly divisible triangular number\n",
    "\n",
    "[Link to problem 12 ](https://projecteuler.net/problem=12)"
   ]
  },
  {
   "cell_type": "code",
   "execution_count": 16,
   "metadata": {},
   "outputs": [
    {
     "name": "stdout",
     "output_type": "stream",
     "text": [
      "76576500\n",
      "CPU times: user 552 ms, sys: 1.04 ms, total: 553 ms\n",
      "Wall time: 553 ms\n"
     ]
    }
   ],
   "source": [
    "%%time\n",
    "S=1\n",
    "i=1\n",
    "while True:\n",
    "    if len(sympy.divisors(S))>=500:\n",
    "        print(S)\n",
    "        break\n",
    "    i+=1\n",
    "    S += i "
   ]
  },
  {
   "cell_type": "markdown",
   "metadata": {},
   "source": [
    "# Problem 13: Large sum\n",
    "\n",
    "[Link to problem 13 ](https://projecteuler.net/problem=13)"
   ]
  },
  {
   "cell_type": "code",
   "execution_count": 17,
   "metadata": {},
   "outputs": [
    {
     "data": {
      "text/plain": [
       "5537376230"
      ]
     },
     "execution_count": 17,
     "metadata": {},
     "output_type": "execute_result"
    }
   ],
   "source": [
    "nbr_str = \"\"\"37107287533902102798797998220837590246510135740250\n",
    "46376937677490009712648124896970078050417018260538\n",
    "74324986199524741059474233309513058123726617309629\n",
    "91942213363574161572522430563301811072406154908250\n",
    "23067588207539346171171980310421047513778063246676\n",
    "89261670696623633820136378418383684178734361726757\n",
    "28112879812849979408065481931592621691275889832738\n",
    "44274228917432520321923589422876796487670272189318\n",
    "47451445736001306439091167216856844588711603153276\n",
    "70386486105843025439939619828917593665686757934951\n",
    "62176457141856560629502157223196586755079324193331\n",
    "64906352462741904929101432445813822663347944758178\n",
    "92575867718337217661963751590579239728245598838407\n",
    "58203565325359399008402633568948830189458628227828\n",
    "80181199384826282014278194139940567587151170094390\n",
    "35398664372827112653829987240784473053190104293586\n",
    "86515506006295864861532075273371959191420517255829\n",
    "71693888707715466499115593487603532921714970056938\n",
    "54370070576826684624621495650076471787294438377604\n",
    "53282654108756828443191190634694037855217779295145\n",
    "36123272525000296071075082563815656710885258350721\n",
    "45876576172410976447339110607218265236877223636045\n",
    "17423706905851860660448207621209813287860733969412\n",
    "81142660418086830619328460811191061556940512689692\n",
    "51934325451728388641918047049293215058642563049483\n",
    "62467221648435076201727918039944693004732956340691\n",
    "15732444386908125794514089057706229429197107928209\n",
    "55037687525678773091862540744969844508330393682126\n",
    "18336384825330154686196124348767681297534375946515\n",
    "80386287592878490201521685554828717201219257766954\n",
    "78182833757993103614740356856449095527097864797581\n",
    "16726320100436897842553539920931837441497806860984\n",
    "48403098129077791799088218795327364475675590848030\n",
    "87086987551392711854517078544161852424320693150332\n",
    "59959406895756536782107074926966537676326235447210\n",
    "69793950679652694742597709739166693763042633987085\n",
    "41052684708299085211399427365734116182760315001271\n",
    "65378607361501080857009149939512557028198746004375\n",
    "35829035317434717326932123578154982629742552737307\n",
    "94953759765105305946966067683156574377167401875275\n",
    "88902802571733229619176668713819931811048770190271\n",
    "25267680276078003013678680992525463401061632866526\n",
    "36270218540497705585629946580636237993140746255962\n",
    "24074486908231174977792365466257246923322810917141\n",
    "91430288197103288597806669760892938638285025333403\n",
    "34413065578016127815921815005561868836468420090470\n",
    "23053081172816430487623791969842487255036638784583\n",
    "11487696932154902810424020138335124462181441773470\n",
    "63783299490636259666498587618221225225512486764533\n",
    "67720186971698544312419572409913959008952310058822\n",
    "95548255300263520781532296796249481641953868218774\n",
    "76085327132285723110424803456124867697064507995236\n",
    "37774242535411291684276865538926205024910326572967\n",
    "23701913275725675285653248258265463092207058596522\n",
    "29798860272258331913126375147341994889534765745501\n",
    "18495701454879288984856827726077713721403798879715\n",
    "38298203783031473527721580348144513491373226651381\n",
    "34829543829199918180278916522431027392251122869539\n",
    "40957953066405232632538044100059654939159879593635\n",
    "29746152185502371307642255121183693803580388584903\n",
    "41698116222072977186158236678424689157993532961922\n",
    "62467957194401269043877107275048102390895523597457\n",
    "23189706772547915061505504953922979530901129967519\n",
    "86188088225875314529584099251203829009407770775672\n",
    "11306739708304724483816533873502340845647058077308\n",
    "82959174767140363198008187129011875491310547126581\n",
    "97623331044818386269515456334926366572897563400500\n",
    "42846280183517070527831839425882145521227251250327\n",
    "55121603546981200581762165212827652751691296897789\n",
    "32238195734329339946437501907836945765883352399886\n",
    "75506164965184775180738168837861091527357929701337\n",
    "62177842752192623401942399639168044983993173312731\n",
    "32924185707147349566916674687634660915035914677504\n",
    "99518671430235219628894890102423325116913619626622\n",
    "73267460800591547471830798392868535206946944540724\n",
    "76841822524674417161514036427982273348055556214818\n",
    "97142617910342598647204516893989422179826088076852\n",
    "87783646182799346313767754307809363333018982642090\n",
    "10848802521674670883215120185883543223812876952786\n",
    "71329612474782464538636993009049310363619763878039\n",
    "62184073572399794223406235393808339651327408011116\n",
    "66627891981488087797941876876144230030984490851411\n",
    "60661826293682836764744779239180335110989069790714\n",
    "85786944089552990653640447425576083659976645795096\n",
    "66024396409905389607120198219976047599490197230297\n",
    "64913982680032973156037120041377903785566085089252\n",
    "16730939319872750275468906903707539413042652315011\n",
    "94809377245048795150954100921645863754710598436791\n",
    "78639167021187492431995700641917969777599028300699\n",
    "15368713711936614952811305876380278410754449733078\n",
    "40789923115535562561142322423255033685442488917353\n",
    "44889911501440648020369068063960672322193204149535\n",
    "41503128880339536053299340368006977710650566631954\n",
    "81234880673210146739058568557934581403627822703280\n",
    "82616570773948327592232845941706525094512325230608\n",
    "22918802058777319719839450180888072429661980811197\n",
    "77158542502016545090413245809786882778948721859617\n",
    "72107838435069186155435662884062257473692284509516\n",
    "20849603980134001723930671666823555245252804609722\n",
    "53503534226472524250874054075591789781264330331690\"\"\"\n",
    "list_numbers = [int(i) for i in nbr_str.split('\\n')]\n",
    "sum(list_numbers)//10**(len(str(sum(list_numbers)))-10)"
   ]
  },
  {
   "cell_type": "markdown",
   "metadata": {},
   "source": [
    "# Problem 14: Longest Collatz sequence\n",
    "\n",
    "[Link to problem 14 ](https://projecteuler.net/problem=14)"
   ]
  },
  {
   "cell_type": "code",
   "execution_count": 18,
   "metadata": {},
   "outputs": [
    {
     "data": {
      "text/plain": [
       "837799"
      ]
     },
     "execution_count": 18,
     "metadata": {},
     "output_type": "execute_result"
    }
   ],
   "source": [
    "def collatz_sequence(n):\n",
    "    L = [n]\n",
    "    while n != 1:\n",
    "        if n%2 == 0:\n",
    "            L.append(n//2)\n",
    "            n = n//2\n",
    "        else:\n",
    "            L.append(3*n+1)\n",
    "            n = 3*n + 1\n",
    "    return L\n",
    "L = dict()\n",
    "for i in range(1, 1_000_000):\n",
    "    L[i] = len(collatz_sequence(i))\n",
    "max(L, key=L.get)"
   ]
  },
  {
   "cell_type": "markdown",
   "metadata": {},
   "source": [
    "# Problem 15: Lattice paths\n",
    "\n",
    "[Link to problem 15 ](https://projecteuler.net/problem=15)\n",
    "\n",
    "\n",
    "The number of different permutations of $n$ objects, where there are $n_1$ indistinguishable objects of type 1,$n_2$ indistinguishable objects of type 2,. . ., and $n_k$ indistinguishable objects of type $k$, is:\n",
    "     \n",
    "\n",
    "$$ \\frac{n!}{n_{1}!n_{2}!....n_{k}!} $$\n"
   ]
  },
  {
   "cell_type": "code",
   "execution_count": 19,
   "metadata": {},
   "outputs": [
    {
     "name": "stdout",
     "output_type": "stream",
     "text": [
      "137846528820\n"
     ]
    }
   ],
   "source": [
    "from math import factorial\n",
    "print(factorial(20*2)//(factorial(20)*factorial(20)))"
   ]
  },
  {
   "cell_type": "markdown",
   "metadata": {},
   "source": [
    "# Problem 16: Power digit sum\n",
    "\n",
    "[Link to problem 16 ](https://projecteuler.net/problem=16)"
   ]
  },
  {
   "cell_type": "code",
   "execution_count": 20,
   "metadata": {},
   "outputs": [
    {
     "name": "stdout",
     "output_type": "stream",
     "text": [
      "1366\n"
     ]
    }
   ],
   "source": [
    "nbr_list = [int(i) for i in str(2**1000)]\n",
    "print(sum(list(nbr_list)))"
   ]
  },
  {
   "cell_type": "markdown",
   "metadata": {},
   "source": [
    "# Problem 17: Number letter counts\n",
    "\n",
    "[Link to problem 17 ](https://projecteuler.net/problem=17)"
   ]
  },
  {
   "cell_type": "code",
   "execution_count": 21,
   "metadata": {},
   "outputs": [
    {
     "data": {
      "text/plain": [
       "21124"
      ]
     },
     "execution_count": 21,
     "metadata": {},
     "output_type": "execute_result"
    }
   ],
   "source": [
    "from num2words import num2words\n",
    "import re\n",
    "Count = 0\n",
    "for i in range(1,1_001):\n",
    "    Count += sum([len(element) for element in re.findall(r\"[\\w']+\", num2words(i))])\n",
    "Count"
   ]
  },
  {
   "cell_type": "markdown",
   "metadata": {},
   "source": [
    "# Problem 18: Maximum path sum I\n",
    "\n",
    "[Link to problem 18 ](https://projecteuler.net/problem=18)"
   ]
  },
  {
   "cell_type": "code",
   "execution_count": 22,
   "metadata": {},
   "outputs": [
    {
     "data": {
      "text/plain": [
       "1074"
      ]
     },
     "execution_count": 22,
     "metadata": {},
     "output_type": "execute_result"
    }
   ],
   "source": [
    "triangle_str='''75\n",
    "95 64\n",
    "17 47 82\n",
    "18 35 87 10\n",
    "20 04 82 47 65\n",
    "19 01 23 75 03 34\n",
    "88 02 77 73 07 63 67\n",
    "99 65 04 28 06 16 70 92\n",
    "41 41 26 56 83 40 80 70 33\n",
    "41 48 72 33 47 32 37 16 94 29\n",
    "53 71 44 65 25 43 91 52 97 51 14\n",
    "70 11 33 28 77 73 17 78 39 68 17 57\n",
    "91 71 52 38 17 14 91 43 58 50 27 29 48\n",
    "63 66 04 68 89 53 67 30 73 16 69 87 40 31\n",
    "04 62 98 27 23 09 70 98 73 93 38 53 60 04 23'''\n",
    "triangle = [[int(j) for j in i.split()] for i in triangle_str.split(\"\\n\")]\n",
    "triangle.reverse()\n",
    "\n",
    "def update_line(i):\n",
    "    for k in range(len(triangle[i])):\n",
    "        triangle[i][k] = triangle[i][k] + max(triangle[i-1][k], triangle[i-1][k+1])\n",
    "\n",
    "for i in range(1,15):\n",
    "    update_line(i)\n",
    "triangle[-1][0]"
   ]
  },
  {
   "cell_type": "markdown",
   "metadata": {},
   "source": [
    "# Problem 19: Counting Sundays\n",
    "\n",
    "[Link to problem 19 ](https://projecteuler.net/problem=19)"
   ]
  },
  {
   "cell_type": "code",
   "execution_count": 23,
   "metadata": {},
   "outputs": [
    {
     "data": {
      "text/plain": [
       "171"
      ]
     },
     "execution_count": 23,
     "metadata": {},
     "output_type": "execute_result"
    }
   ],
   "source": [
    "#Solution 1\n",
    "list_days_leap = [31, 29, 31, 30, 31, 30, 31, 31, 30, 31, 30, 31]\n",
    "list_days_not = [31, 28, 31, 30, 31, 30, 31, 31, 30, 31, 30, 31]\n",
    "Days_new = {6: \"Monday\", 0: \"Tuesday\", 1: \"Wednesday\", 2 : \"Thursday\", 3: \"Friday\", 4: \"Saturday\", 5: \"Sunday\"}\n",
    "sum_days = 0\n",
    "nbr_sundays = 0\n",
    "for year in range(1901, 2001):\n",
    "    if year%4 == 0:\n",
    "        list_days = list_days_leap\n",
    "    else:\n",
    "        list_days = list_days_not\n",
    "    for month in list_days:\n",
    "        sum_days += month\n",
    "        if sum_days% 7== 5:\n",
    "            nbr_sundays += 1\n",
    "nbr_sundays"
   ]
  },
  {
   "cell_type": "code",
   "execution_count": 24,
   "metadata": {},
   "outputs": [
    {
     "data": {
      "text/plain": [
       "171"
      ]
     },
     "execution_count": 24,
     "metadata": {},
     "output_type": "execute_result"
    }
   ],
   "source": [
    "#Solution 2\n",
    "import datetime\n",
    "nbr_sundays2 = 0\n",
    "for year in range(1901, 2001):\n",
    "    for month in range(1,13):\n",
    "        if datetime.datetime(year, month, 1).weekday() == 6:\n",
    "            nbr_sundays2 += 1\n",
    "nbr_sundays2"
   ]
  },
  {
   "cell_type": "markdown",
   "metadata": {},
   "source": [
    "# Problem 20: Factorial digit sum\n",
    "\n",
    "[Link to problem 20 ](https://projecteuler.net/problem=20)"
   ]
  },
  {
   "cell_type": "code",
   "execution_count": 25,
   "metadata": {},
   "outputs": [
    {
     "data": {
      "text/plain": [
       "648"
      ]
     },
     "execution_count": 25,
     "metadata": {},
     "output_type": "execute_result"
    }
   ],
   "source": [
    "def sum_factorial(n):\n",
    "    return sum([int(i) for i in list(str(factorial(n)))])\n",
    "sum_factorial(100)"
   ]
  },
  {
   "cell_type": "markdown",
   "metadata": {},
   "source": [
    "# Problem 21: Amicable numbers\n",
    "\n",
    "[Link to problem 21 ](https://projecteuler.net/problem=21)"
   ]
  },
  {
   "cell_type": "code",
   "execution_count": 26,
   "metadata": {},
   "outputs": [
    {
     "data": {
      "text/plain": [
       "31626"
      ]
     },
     "execution_count": 26,
     "metadata": {},
     "output_type": "execute_result"
    }
   ],
   "source": [
    "# Solution 1 \n",
    "def list_divisors(n):\n",
    "    divisors = []\n",
    "    for i in range(1, int(np.sqrt(n))+1):\n",
    "        if n%i == 0:\n",
    "            if n//i >= i:\n",
    "                divisors.append(i)\n",
    "                if n//i > i:\n",
    "                    divisors.append(n//i)\n",
    "    return divisors\n",
    "def sum_proper_divisors(n):\n",
    "    list_div = list_divisors(n)\n",
    "    list_div.remove(n)\n",
    "    return sum(list_div)\n",
    "Somme = 0\n",
    "for a in range(2,10001):\n",
    "    b = sum_proper_divisors(a)\n",
    "    if sum_proper_divisors(b) == a and a!=b:\n",
    "        Somme += a\n",
    "Somme"
   ]
  },
  {
   "cell_type": "code",
   "execution_count": 27,
   "metadata": {},
   "outputs": [
    {
     "data": {
      "text/plain": [
       "31626"
      ]
     },
     "execution_count": 27,
     "metadata": {},
     "output_type": "execute_result"
    }
   ],
   "source": [
    "# Solution 2\n",
    "Somme = 0\n",
    "for a in range(2,10001):\n",
    "    b = sum(sympy.divisors(a)[:-1])\n",
    "    if sum(sympy.divisors(b)[:-1]) == a and a!=b:\n",
    "        Somme += a\n",
    "Somme"
   ]
  },
  {
   "cell_type": "markdown",
   "metadata": {},
   "source": [
    "# Problem 22: Names scores\n",
    "\n",
    "[Link to problem 22 ](https://projecteuler.net/problem=22)"
   ]
  },
  {
   "cell_type": "code",
   "execution_count": 28,
   "metadata": {},
   "outputs": [
    {
     "data": {
      "text/plain": [
       "871198282"
      ]
     },
     "execution_count": 28,
     "metadata": {},
     "output_type": "execute_result"
    }
   ],
   "source": [
    "import pandas as pd\n",
    "fichier = open(\"names.txt\", \"r\")\n",
    "names = list(eval(fichier.read()))\n",
    "fichier.close()\n",
    "data = pd.DataFrame(data={'names':names})\n",
    "data = data.sort_values('names')\n",
    "data.reset_index(inplace=True, drop=True)\n",
    "def word_value(word):\n",
    "    return sum([ord(char) - 96 for char in word.lower()])\n",
    "data['value_name'] = data.names.apply(lambda x: word_value(x))\n",
    "def sum_values(index, value_name):\n",
    "    products = [a * b for a, b in zip(index, value_name)]\n",
    "    return sum(products)\n",
    "sum_values(list(data.index+1), list(data.value_name))"
   ]
  },
  {
   "cell_type": "markdown",
   "metadata": {},
   "source": [
    "# Problem 23: Non-abundant sums\n",
    "\n",
    "[Link to problem 23 ](https://projecteuler.net/problem=23)"
   ]
  },
  {
   "cell_type": "code",
   "execution_count": 29,
   "metadata": {},
   "outputs": [
    {
     "data": {
      "text/plain": [
       "4179871"
      ]
     },
     "execution_count": 29,
     "metadata": {},
     "output_type": "execute_result"
    }
   ],
   "source": [
    "from collections import Counter\n",
    "def list_divisors(n):\n",
    "    divisors = []\n",
    "    for i in range(1, int(np.sqrt(n))+1):\n",
    "        if n%i == 0:\n",
    "            if n//i >= i:\n",
    "                divisors.append(i)\n",
    "                if n//i > i:\n",
    "                    divisors.append(n//i)\n",
    "    return divisors\n",
    "def sum_proper_divisors(n):\n",
    "    list_div = list_divisors(n)\n",
    "    list_div.remove(n)\n",
    "    return sum(list_div)\n",
    "def find_abundant_numbers(n):\n",
    "    out = []\n",
    "    for i in range(1,n):\n",
    "        if sum_proper_divisors(i) > i:\n",
    "            out += [i]\n",
    "    return out\n",
    "abundant_numbers = find_abundant_numbers(28124)\n",
    "possible_sums = []\n",
    "for i in range(len(abundant_numbers)):\n",
    "    for j in range(i, len(abundant_numbers)):\n",
    "        somme = abundant_numbers[i] + abundant_numbers[j]\n",
    "        if somme > 28123:\n",
    "            break\n",
    "        possible_sums += [somme]\n",
    "resultat = (28123*28124)//2 - sum(Counter(possible_sums).keys())\n",
    "resultat"
   ]
  },
  {
   "cell_type": "markdown",
   "metadata": {},
   "source": [
    "# Problem 24: Lexicographic permutations\n",
    "\n",
    "[Link to problem 24 ](https://projecteuler.net/problem=24)"
   ]
  },
  {
   "cell_type": "code",
   "execution_count": 30,
   "metadata": {},
   "outputs": [
    {
     "data": {
      "text/plain": [
       "(2783915460, 2783915460)"
      ]
     },
     "execution_count": 30,
     "metadata": {},
     "output_type": "execute_result"
    }
   ],
   "source": [
    "## First solution by finding the possible position of each digit\n",
    "999998 == 2*factorial(9) + 6*factorial(8) + 6*factorial(7) + 2*factorial(6) + 5*factorial(5) + 1*factorial(4) + 2*factorial(3) + factorial(2)\n",
    "result1 = 2783915460\n",
    "\n",
    "## second solution\n",
    "import itertools\n",
    "permut = list(itertools.permutations(\"0123456789\"))[999999]\n",
    "result2 = ''.join(permut)\n",
    "result1, int(result2)"
   ]
  },
  {
   "cell_type": "markdown",
   "metadata": {},
   "source": [
    "# Problem 25: 1000-digit Fibonacci number\n",
    "\n",
    "[Link to problem 25 ](https://projecteuler.net/problem=25)"
   ]
  },
  {
   "cell_type": "code",
   "execution_count": 31,
   "metadata": {},
   "outputs": [
    {
     "name": "stdout",
     "output_type": "stream",
     "text": [
      "4782\n"
     ]
    }
   ],
   "source": [
    "a = 1\n",
    "b = 1\n",
    "resultat = 2\n",
    "while len(str(b)) < 1000:\n",
    "    a, b = b, a+b\n",
    "    resultat += 1\n",
    "print(resultat)"
   ]
  },
  {
   "cell_type": "markdown",
   "metadata": {},
   "source": [
    "# Problem 26: Reciprocal cycles\n",
    "\n",
    "[Link to problem 26 ](https://projecteuler.net/problem=26)"
   ]
  },
  {
   "cell_type": "code",
   "execution_count": 32,
   "metadata": {},
   "outputs": [
    {
     "name": "stdout",
     "output_type": "stream",
     "text": [
      "983\n"
     ]
    }
   ],
   "source": [
    "def cycle_length(den):\n",
    "    reste = 10\n",
    "    i = 0\n",
    "    #Calcul des décimales tant que le reste n'est pas égal à 10\n",
    "    while reste != 10 or i < 1:\n",
    "        reste = (reste % den) * 10\n",
    "        i += 1\n",
    "    return i\n",
    "longest = 0\n",
    "for i in range(2, 1000):\n",
    "    if i%2 != 0 and i%5 != 0:\n",
    "        length = cycle_length(i)\n",
    "        if length > longest:\n",
    "            longest = length\n",
    "            resultat = i\n",
    "print(resultat)"
   ]
  },
  {
   "cell_type": "markdown",
   "metadata": {},
   "source": [
    "# Problem 27: Quadratic primes\n",
    "\n",
    "[Link to problem 27 ](https://projecteuler.net/problem=27)"
   ]
  },
  {
   "cell_type": "code",
   "execution_count": 33,
   "metadata": {},
   "outputs": [
    {
     "data": {
      "text/plain": [
       "-59231"
      ]
     },
     "execution_count": 33,
     "metadata": {},
     "output_type": "execute_result"
    }
   ],
   "source": [
    "from sympy import sieve\n",
    "import sympy\n",
    "sieve._reset()\n",
    "sieve.extend_to_no(170)\n",
    "a = list(sieve._list)\n",
    "a = [i for i in a if i<1000]\n",
    "a += [-i for i in a]\n",
    "def calculate(a,b):\n",
    "    n=0\n",
    "    while sympy.isprime(n**2+n*a+b):\n",
    "        n+=1\n",
    "    return n\n",
    "max_n = 0\n",
    "for i in range(-499, 500):\n",
    "    for b in a:\n",
    "        if calculate(2*i+1, b)>max_n:\n",
    "            max_n = calculate(2*i+1, b)\n",
    "            a_out = 2*i+1\n",
    "            b_out = b\n",
    "a_out*b_out     "
   ]
  },
  {
   "cell_type": "markdown",
   "metadata": {},
   "source": [
    "# Problem 28: Number spiral diagonals\n",
    "\n",
    "[Link to problem 28 ](https://projecteuler.net/problem=28)"
   ]
  },
  {
   "cell_type": "code",
   "execution_count": 34,
   "metadata": {},
   "outputs": [
    {
     "data": {
      "text/plain": [
       "669171001"
      ]
     },
     "execution_count": 34,
     "metadata": {},
     "output_type": "execute_result"
    }
   ],
   "source": [
    "n=1\n",
    "somme = 1\n",
    "counter = 0\n",
    "i=0\n",
    "while i<500:\n",
    "    while counter < 4:\n",
    "        n = n + 2*(i+1)\n",
    "        somme+= n\n",
    "        \n",
    "        counter += 1\n",
    "    i+=1\n",
    "    counter = 0\n",
    "somme"
   ]
  },
  {
   "cell_type": "markdown",
   "metadata": {},
   "source": [
    "# Problem 29 Distinct powers\n",
    "\n",
    "[Link to problem 29](https://projecteuler.net/problem=29)"
   ]
  },
  {
   "cell_type": "code",
   "execution_count": 35,
   "metadata": {},
   "outputs": [
    {
     "data": {
      "text/plain": [
       "9183"
      ]
     },
     "execution_count": 35,
     "metadata": {},
     "output_type": "execute_result"
    }
   ],
   "source": [
    "# Problem 29 Distinct powers\n",
    "distinct_powers = dict()\n",
    "for a in range(2,101):\n",
    "    for b in range(2,101):\n",
    "        distinct_powers[a**b] = 1\n",
    "len(distinct_powers)"
   ]
  },
  {
   "cell_type": "markdown",
   "metadata": {},
   "source": [
    "# Problem 30 Digit fifth powers\n",
    "\n",
    "[Link to problem 30](https://projecteuler.net/problem=30)\n",
    "\n",
    "\n",
    "Let $ m = \\overline{a_{n}a_{n-1}.......a_{0}} = \\sum_{i=0}^{i=n}a_{i}^{5}$\n",
    "\n",
    "Knowing that $0 \\leq a_{i}\\leq 9$ we have $\\sum_{i=0}^{i=n}a_{i}^{5} <= 59049n$\n",
    "\n",
    "Moreover we have $a_{n}>=1$ and that $10^{6}-59049*6 > 0$\n",
    "\n",
    "The search domain is for $n \\leq 4$ that means in $m<10^{6}$"
   ]
  },
  {
   "cell_type": "code",
   "execution_count": 36,
   "metadata": {},
   "outputs": [
    {
     "data": {
      "text/plain": [
       "443839"
      ]
     },
     "execution_count": 36,
     "metadata": {},
     "output_type": "execute_result"
    }
   ],
   "source": [
    "out = []\n",
    "for i in range(2,10**6):\n",
    "    if i == sum([int(j)**5 for j in list(str(i))]):\n",
    "        out += [i]\n",
    "sum(out)"
   ]
  },
  {
   "cell_type": "markdown",
   "metadata": {},
   "source": [
    "# Problem 31 Coin sums\n",
    "\n",
    "[Link to problem 31](https://projecteuler.net/problem=31)"
   ]
  },
  {
   "cell_type": "code",
   "execution_count": 37,
   "metadata": {},
   "outputs": [
    {
     "data": {
      "text/plain": [
       "73682"
      ]
     },
     "execution_count": 37,
     "metadata": {},
     "output_type": "execute_result"
    }
   ],
   "source": [
    "resultat = 0\n",
    "reste = 200\n",
    "for a in range(0, reste+1, 200):\n",
    "    reste = 200 - a\n",
    "    for b in range(0, reste+1, 100):\n",
    "        reste = 200 - a - b\n",
    "        for c in range(0, reste+1, 50):\n",
    "            reste = 200 - a - b - c\n",
    "            for d in range(0, reste+1, 20):\n",
    "                reste = 200 - a - b - c - d\n",
    "                for e in range(0, reste+1, 10):\n",
    "                    reste = 200 - a - b - c - d - e\n",
    "                    for f in range(0, reste+1, 5):\n",
    "                        reste = 200 - a - b - c - d - e - f\n",
    "                        for g in range(0, reste+1, 2):\n",
    "                            h = 200 - a - b - c - d - e - f - g\n",
    "                            if h >= 0:\n",
    "                                resultat += 1\n",
    "resultat"
   ]
  },
  {
   "cell_type": "markdown",
   "metadata": {},
   "source": [
    "# Problem 32 Pandigital products\n",
    "\n",
    "[Link to problem 32](https://projecteuler.net/problem=32)"
   ]
  },
  {
   "cell_type": "code",
   "execution_count": 38,
   "metadata": {},
   "outputs": [
    {
     "name": "stdout",
     "output_type": "stream",
     "text": [
      "45228\n"
     ]
    }
   ],
   "source": [
    "#### Problem 32\n",
    "from itertools import permutations\n",
    "L = list(permutations('123456789'))\n",
    "L = [''.join(i) for i in L]\n",
    "S = set()\n",
    "for k in range(len(L)):\n",
    "    for i in range(1,9):\n",
    "        for j in range(i+1,9):\n",
    "            x = int(L[k][:i])\n",
    "            y = int(L[k][i:j])\n",
    "            z = int(L[k][j:])\n",
    "            if x<y<z:\n",
    "                if x*y == z:\n",
    "#                     print(x,y,z)\n",
    "                    S.add(z)\n",
    "print(sum(S))"
   ]
  },
  {
   "cell_type": "markdown",
   "metadata": {},
   "source": [
    "# Problem 33 Digit cancelling fractions\n",
    "\n",
    "[Link to problem 33](https://projecteuler.net/problem=33)"
   ]
  },
  {
   "cell_type": "code",
   "execution_count": 39,
   "metadata": {},
   "outputs": [
    {
     "data": {
      "text/plain": [
       "100"
      ]
     },
     "execution_count": 39,
     "metadata": {},
     "output_type": "execute_result"
    }
   ],
   "source": [
    "L = []\n",
    "for a in range(1,10):\n",
    "    for b in range(1,10):\n",
    "        for c in range(1,10):\n",
    "            for d in range(1,10):\n",
    "                actual = int(str(a)+str(b)) / int(str(c)+str(d))\n",
    "                if actual <1:\n",
    "                    if a/c == actual and b==d:\n",
    "                        L.append([str(a)+str(b), str(c)+str(d)])\n",
    "                    if a/d == actual and b==c:\n",
    "                        L.append([str(a)+str(b), str(c)+str(d)])\n",
    "                    if b/d == actual and a==c:\n",
    "                        L.append([str(a)+str(b), str(c)+str(d)])\n",
    "                    if b/c == actual and a==d:\n",
    "                        L.append([str(a)+str(b), str(c)+str(d)])\n",
    "L\n",
    "# the product of these four fractions is given in its lowest common terms gives\n",
    "result = 5*4*5\n",
    "result"
   ]
  },
  {
   "cell_type": "markdown",
   "metadata": {},
   "source": [
    "# Problem 34 Digit factorials\n",
    "\n",
    "[Link to problem 34](https://projecteuler.net/problem=34)\n",
    "\n",
    "\n",
    "Let $ m = \\overline{a_{n}a_{n-1}.......a_{0}} = \\sum_{i=0}^{i=n}a_{i}!$\n",
    "\n",
    "Knowing that $0 \\leq a_{i}\\leq 9$ Moreover we have $a_{n}>=1$ \n",
    "\n",
    "$\\sum_{i=0}^{i=n}a_{i}! \\leq 9!n$ and $m \\geq 10^{n}$\n",
    "\n",
    "and we can check that $10^6-9!x6 < 0$ and $10^7-9!x7 > 0$"
   ]
  },
  {
   "cell_type": "code",
   "execution_count": 40,
   "metadata": {},
   "outputs": [
    {
     "data": {
      "text/plain": [
       "40730"
      ]
     },
     "execution_count": 40,
     "metadata": {},
     "output_type": "execute_result"
    }
   ],
   "source": [
    "L = []\n",
    "for k in range(3,10**7):\n",
    "    if sum([factorial(int(i)) for i in list(str(k))]) == k:\n",
    "        L +=[k]\n",
    "sum(L)"
   ]
  },
  {
   "cell_type": "markdown",
   "metadata": {},
   "source": [
    "# Problem 35 Circular primes\n",
    "\n",
    "[Link to problem 35](https://projecteuler.net/problem=35)"
   ]
  },
  {
   "cell_type": "code",
   "execution_count": 41,
   "metadata": {},
   "outputs": [
    {
     "data": {
      "text/plain": [
       "55"
      ]
     },
     "execution_count": 41,
     "metadata": {},
     "output_type": "execute_result"
    }
   ],
   "source": [
    "## A way to creates all possible permutations for a number\n",
    "def permuation_number(n):\n",
    "    l = list(str(n))\n",
    "    return list(set([int(''.join(i)) for i in [[l[i - j] for i in range(len(l))] for j in range(len(l))]]))\n",
    "\n",
    "from collections import defaultdict\n",
    "L = defaultdict(int)\n",
    "for i in range(2,10**6):\n",
    "    if i==2 or i==5:\n",
    "        L[i] = 1\n",
    "    d = i%10\n",
    "    if (d%2 == 0) or d==5:\n",
    "        continue\n",
    "    else:\n",
    "        if L[i] == 0:\n",
    "            permu = permuation_number(i)\n",
    "            j = 0\n",
    "            for k in permu:\n",
    "                if sympy.isprime(k):\n",
    "                    j += 1\n",
    "                else:\n",
    "                    break\n",
    "            if j == len(permu):\n",
    "                for k in permu:\n",
    "                    L[k] = 1\n",
    "sum(L.values())"
   ]
  },
  {
   "cell_type": "markdown",
   "metadata": {},
   "source": [
    "# Problem 36 Double-base palindromes\n",
    "\n",
    "[Link to problem 36](https://projecteuler.net/problem=36)"
   ]
  },
  {
   "cell_type": "code",
   "execution_count": 42,
   "metadata": {},
   "outputs": [
    {
     "data": {
      "text/plain": [
       "872187"
      ]
     },
     "execution_count": 42,
     "metadata": {},
     "output_type": "execute_result"
    }
   ],
   "source": [
    "def isPalindrome(n):\n",
    "    return str(n) == str(n)[::-1]\n",
    "L=[]\n",
    "for i in range(10**6):\n",
    "    if isPalindrome(i) and isPalindrome(int(bin(i)[2:])):\n",
    "        L += [i]\n",
    "sum(L)"
   ]
  },
  {
   "cell_type": "markdown",
   "metadata": {},
   "source": [
    "# Problem 37 Truncatable primes\n",
    "\n",
    "[Link to problem 37](https://projecteuler.net/problem=37)"
   ]
  },
  {
   "cell_type": "code",
   "execution_count": 43,
   "metadata": {},
   "outputs": [
    {
     "data": {
      "text/plain": [
       "748317"
      ]
     },
     "execution_count": 43,
     "metadata": {},
     "output_type": "execute_result"
    }
   ],
   "source": [
    "def prime_verification(n):\n",
    "    if n==1:\n",
    "        return False\n",
    "    if n==2:\n",
    "        return True\n",
    "    if n==5:\n",
    "        return True\n",
    "    if ((n%10)%2 == 0) or ((n%10) == 5):\n",
    "        return False\n",
    "\n",
    "    for i in range(2,ceil(np.sqrt(n))+1):\n",
    "        if n%i == 0:\n",
    "            return False\n",
    "    return True\n",
    "\n",
    "def trunctated(n):\n",
    "    a = str(n)\n",
    "    lon = len(str(n))\n",
    "    return [int(i) for i in [a[i:] for i in range(len(a))] + [a[:i] for i in range(1,len(a))]]\n",
    "i = 0\n",
    "n = 10\n",
    "L = []\n",
    "while i<11:\n",
    "    if prime_verification(n):\n",
    "        j=0\n",
    "        l = trunctated(n)\n",
    "        for k in l:\n",
    "            if prime_verification(k):\n",
    "                j+=1\n",
    "        if j == len(l):\n",
    "            L+=[n]\n",
    "            i+=1\n",
    "    n+=1\n",
    "sum(L)"
   ]
  },
  {
   "cell_type": "markdown",
   "metadata": {},
   "source": [
    "# Problem 38 Pandigital multiples\n",
    "\n",
    "[Link to problem 38](https://projecteuler.net/problem=38)\n",
    "\n",
    "Starting by limiting the search space. \n",
    "    \n",
    "        The number of digits cannot exceed 5 digits since n>1\n",
    "        A given information is that one candidate starts with 9, that gives us a hint that the number we are looking for starts with 9.\n",
    "        If the number of digits is 2, for 1 we have 2, for 2 we have 3 for 3 we have 3 for 4 we have 3: that means for n=3 8 digits number and n=4 11 digit number (we are looking for 9 digit number)\n",
    "        If the number of digits is 3, for 1 we have 3, for 2 we have 4, and for 3 we have 4 that means n=3 gives 11 digits number (again false)\n",
    "That leaves us with 4 digit number with this form 9***.\n",
    "\n",
    "We notice also that 98** , 97** , 96** and 95** multiplied by 2 gives a 19*** with a 9in the digits of the product but we already have 9.\n",
    "\n",
    "That leaves us with 94** ,93** ,92**, 91**\n",
    "\n",
    "We can add that for the case of 91**, if we do 91** x 1 = 91** and 91** x 2 = 1**** it means 1 repeated two times\n",
    "\n",
    "That leaves us with 94** , 93** , 92** , that's 123 possible solutions\n"
   ]
  },
  {
   "cell_type": "code",
   "execution_count": 44,
   "metadata": {},
   "outputs": [
    {
     "name": "stdout",
     "output_type": "stream",
     "text": [
      "932718654 9327\n",
      "935218704 9352\n",
      "923518470 9235\n",
      "926718534 9267\n",
      "927318546 9273\n"
     ]
    }
   ],
   "source": [
    "s_3 = ['1','2','4','5','6','7','8']\n",
    "s_2 = ['1','3','4','5','6','7','8']\n",
    "s_4 = ['1','2','3','5','6','7','8']\n",
    "from itertools import permutations\n",
    "a_4 = '94'\n",
    "a_3 = '93'\n",
    "a_2 = '92'\n",
    "def verify(a_4, s_4):\n",
    "    L = [''.join(i) for i in list(permutations(s_4,2))]\n",
    "    for element in L:\n",
    "        out = a_4 + element + str(int(a_4 + element)*2)\n",
    "        if len(list(out)) == len(set(out)):\n",
    "            print(out, a_4+element)\n",
    "verify(a_4,s_4)\n",
    "verify(a_3,s_3)\n",
    "verify(a_2,s_2)"
   ]
  },
  {
   "cell_type": "markdown",
   "metadata": {},
   "source": [
    "The answer is obviously 932718654"
   ]
  },
  {
   "cell_type": "markdown",
   "metadata": {},
   "source": [
    "# Problem 39 Integer right triangles\n",
    "\n",
    "[Link to problem 39](https://projecteuler.net/problem=39)\n",
    "\n",
    "a+b+c = p  and a²+b²=c², change c by p-a-b"
   ]
  },
  {
   "cell_type": "code",
   "execution_count": null,
   "metadata": {},
   "outputs": [],
   "source": [
    "def find_solution(p):\n",
    "    L=[]\n",
    "    for a in range(1,p):\n",
    "        for b in range(a,p):\n",
    "            if 2*p*(a+b) == p**2+2*a*b:\n",
    "                L += [(a,b)]\n",
    "    return L\n",
    "m = 0\n",
    "pmax = 2\n",
    "for p in range(2,1001):\n",
    "    if len(find_solution(p)) > m:\n",
    "        m = len(find_solution(p))\n",
    "        pmax=p\n",
    "pmax"
   ]
  },
  {
   "cell_type": "markdown",
   "metadata": {},
   "source": [
    "# Problem 40 Champernowne's constant\n",
    "\n",
    "[Link to problem 40](https://projecteuler.net/problem=40)"
   ]
  },
  {
   "cell_type": "code",
   "execution_count": null,
   "metadata": {},
   "outputs": [],
   "source": [
    "##### Problem 40\n",
    "L = [1, 10, 100, 1_000, 10_000, 100_000, 1_000_000]\n",
    "out = []\n",
    "i=0\n",
    "j=1\n",
    "while i < max(L):\n",
    "    n=len(str(j))\n",
    "    for k in range(1,n+1):\n",
    "        if i+k in L:\n",
    "            out += [int(str(j)[k-1])]\n",
    "    j+=1\n",
    "    i+=n\n",
    "np.product(out)    "
   ]
  },
  {
   "cell_type": "markdown",
   "metadata": {},
   "source": [
    "# Problem 41 Pandigital prime\n",
    "\n",
    "[Link to problem 41](https://projecteuler.net/problem=41)"
   ]
  },
  {
   "cell_type": "code",
   "execution_count": null,
   "metadata": {},
   "outputs": [],
   "source": [
    "def prime_verification(n):\n",
    "    if n==2:\n",
    "        return True\n",
    "    \n",
    "    if ((n%10)%2 == 0) or ((n%10) == 5):\n",
    "        return False\n",
    "    if n==5:\n",
    "        return True\n",
    "    for i in range(2,ceil(np.sqrt(n))+1):\n",
    "        if n%i == 0:\n",
    "            return False\n",
    "    return True\n",
    "for j in range(10,1,-1):\n",
    "    L = list(permutations(list(range(1,j))))\n",
    "    L = [int(''.join(map(str, element))) for element in L]\n",
    "    L.sort(reverse=True)\n",
    "    for i in range(len(L)):\n",
    "        if prime_verification(L[i]):\n",
    "            print(L[i])\n",
    "            break\n",
    "    else:\n",
    "        continue\n",
    "    break"
   ]
  },
  {
   "cell_type": "markdown",
   "metadata": {},
   "source": [
    "# Problem 42 Coded triangle numbers\n",
    "\n",
    "[Link to problem 42](https://projecteuler.net/problem=42)"
   ]
  },
  {
   "cell_type": "code",
   "execution_count": null,
   "metadata": {},
   "outputs": [],
   "source": [
    "import pandas as pd\n",
    "import sys\n",
    "fichier = open(\"words.txt\", \"r\")\n",
    "words = list(eval(fichier.read()))\n",
    "fichier.close()\n",
    "data = pd.DataFrame(data={'words':words})\n",
    "# Trick without solving the second degreen equation and see if there are integers solution, we inspect the data\n",
    "len_max = data.words.apply(len).max()\n",
    "value_max = len_max*26\n",
    "def evaluate(word):\n",
    "    return sum([ord(char) - 96 for char in word.lower()])\n",
    "data['value'] = data.words.apply(evaluate)\n",
    "def t_n(n):\n",
    "    return int((n*(n+1))/2)\n",
    "t = []\n",
    "j=1\n",
    "while t_n(j)<365:\n",
    "    t+=[t_n(j)]\n",
    "    j+=1\n",
    "def verification_triangle(row):\n",
    "    if row.value in t:\n",
    "        return 1\n",
    "    else:\n",
    "        return 0\n",
    "data['verif']= data.apply(verification_triangle, axis=1)\n",
    "data['verif'].sum()"
   ]
  },
  {
   "cell_type": "markdown",
   "metadata": {},
   "source": [
    "# Problem 43 Sub-string divisibility\n",
    "\n",
    "[Link to problem 43](https://projecteuler.net/problem=43)"
   ]
  },
  {
   "cell_type": "code",
   "execution_count": null,
   "metadata": {},
   "outputs": [],
   "source": [
    "L = list(permutations(list(range(10))))\n",
    "L = [''.join(map(str, element)) for element in L]\n",
    "def joining(n,i,j,k):\n",
    "    return int(n[i-1]+n[j-1]+n[k-1])\n",
    "def verfication_property(n):\n",
    "    if (joining(n,2,3,4)%2==0) and (joining(n,3,4,5)%3==0) and (joining(n,4,5,6)%5==0) and (joining(n,5,6,7)%7==0)and (joining(n,5,6,7)%7==0) and (joining(n,6,7,8)%11==0) and (joining(n,7,8,9)%13==0) and (joining(n,8,9,10)%17==0):\n",
    "        return True\n",
    "    return False\n",
    "s=0\n",
    "for element in L:\n",
    "    if verfication_property(element):\n",
    "        s+=int(element)\n",
    "s"
   ]
  },
  {
   "cell_type": "markdown",
   "metadata": {},
   "source": [
    "# Problem 44 Pentagon numbers\n",
    "\n",
    "[Link to problem 44](https://projecteuler.net/problem=44)"
   ]
  },
  {
   "cell_type": "code",
   "execution_count": null,
   "metadata": {},
   "outputs": [],
   "source": [
    "def p_n(n):\n",
    "    return int(n*(3*n-1))/2\n",
    "for i in range(1,3000):\n",
    "    for j in range(i,3001):\n",
    "        a = (np.sqrt(24*(p_n(j) + p_n(i))+1)+1)/6\n",
    "        b = (np.sqrt(24*(p_n(j) - p_n(i))+1)+1)/6\n",
    "        if a == int(a) and b==int(b):\n",
    "            print(int(p_n(j)- p_n(i)))\n",
    "            break\n",
    "    else:\n",
    "        continue\n",
    "    break"
   ]
  },
  {
   "cell_type": "markdown",
   "metadata": {},
   "source": [
    "# Problem 45 Triangular, pentagonal, and hexagonal\n",
    "\n",
    "[Link to problem 45](https://projecteuler.net/problem=45)"
   ]
  },
  {
   "cell_type": "code",
   "execution_count": null,
   "metadata": {},
   "outputs": [],
   "source": [
    "def h_n(n):\n",
    "    return n*(2*n-1)\n",
    "#h_n(143) == 40755\n",
    "i = 144\n",
    "a= (np.sqrt(8*h_n(i)+1)-1)/2\n",
    "b= (np.sqrt(24*h_n(i)+1)+1)/6\n",
    "while (int(a)!= a) or (int(b)!=b):\n",
    "    i+=1\n",
    "    a= (np.sqrt(8*h_n(i)+1)-1)/2\n",
    "    b= (np.sqrt(24*h_n(i)+1)+1)/6\n",
    "print(h_n(i))"
   ]
  },
  {
   "cell_type": "markdown",
   "metadata": {},
   "source": [
    "# Problem 46 Goldbach's other conjecture\n",
    "\n",
    "[Link to problem 46](https://projecteuler.net/problem=46)"
   ]
  },
  {
   "cell_type": "code",
   "execution_count": null,
   "metadata": {},
   "outputs": [],
   "source": [
    "def prime_verification(n):\n",
    "    if n==2:\n",
    "        return True\n",
    "    if n==5:\n",
    "        return True\n",
    "    \n",
    "    if ((n%10)%2 == 0) or ((n%10) == 5):\n",
    "        return False\n",
    "\n",
    "    for i in range(2,ceil(np.sqrt(n))+1):\n",
    "        if n%i == 0:\n",
    "            return False\n",
    "    return True\n",
    "\n",
    "def prime_search(n):\n",
    "    l = []\n",
    "    for i in range(n):\n",
    "        if prime_verification(i):\n",
    "            l += [i]\n",
    "    return l\n",
    "def goldbach_verification(n):\n",
    "    l = prime_search(n-1)\n",
    "    for prime in l:\n",
    "        if (n-prime)/2 == (n-prime)//2 and np.sqrt((n-prime)/2) == int(np.sqrt((n-prime)/2)):\n",
    "            return True\n",
    "    return False\n",
    "i=33\n",
    "while goldbach_verification(i):\n",
    "    i+=2\n",
    "    while prime_verification(i):\n",
    "        i+=2\n",
    "i"
   ]
  },
  {
   "cell_type": "markdown",
   "metadata": {},
   "source": [
    "# Problem 47 Distinct primes factors\n",
    "\n",
    "[Link to problem 47](https://projecteuler.net/problem=47)"
   ]
  },
  {
   "cell_type": "code",
   "execution_count": null,
   "metadata": {},
   "outputs": [],
   "source": [
    "def npf(number):\n",
    "    \"\"\"function which will return\n",
    "    the number of prime factors\"\"\"\n",
    "    i = 2\n",
    "    a = set()\n",
    "    while i < number**0.5 or number == 1:\n",
    "        if number % i == 0:\n",
    "            number = number/i\n",
    "            a.add(i)\n",
    "            i -= 1\n",
    "        i += 1\n",
    "    return (len(a)+1)\n",
    "i=3*5*7*2\n",
    "while True:\n",
    "    if npf(i)==4:\n",
    "        if npf(i+1)==4:\n",
    "            if npf(i+2)==4:\n",
    "                if npf(i+3)==4:\n",
    "                    print(i)\n",
    "                    break\n",
    "                else:\n",
    "                    i+=1\n",
    "            else:\n",
    "                i+=1\n",
    "        else:\n",
    "            i+=1\n",
    "    else:\n",
    "        i+=1"
   ]
  },
  {
   "cell_type": "markdown",
   "metadata": {},
   "source": [
    "# Problem 48 Self powers\n",
    "\n",
    "[Link to problem 48](https://projecteuler.net/problem=48)"
   ]
  },
  {
   "cell_type": "code",
   "execution_count": null,
   "metadata": {},
   "outputs": [],
   "source": [
    "def sum_calcu(n):\n",
    "    s=0\n",
    "    for i in range(1,n+1):\n",
    "        s += i**i\n",
    "    return s\n",
    "sum_calcu(1000)%(10**10)"
   ]
  },
  {
   "cell_type": "markdown",
   "metadata": {},
   "source": [
    "# Problem 49 Prime permutations\n",
    "\n",
    "[Link to problem 49](https://projecteuler.net/problem=49)"
   ]
  },
  {
   "cell_type": "code",
   "execution_count": null,
   "metadata": {},
   "outputs": [],
   "source": [
    "from itertools import permutations\n",
    "def check_premutation(n,m):\n",
    "    if m in [int(''.join(element)) for element in list(permutations(str(n)))]:\n",
    "        return True\n",
    "    return False\n",
    "def prime_verification(n):\n",
    "    if n==2:\n",
    "        return True\n",
    "    if n==5:\n",
    "        return True\n",
    "    \n",
    "    if ((n%10)%2 == 0) or ((n%10) == 5):\n",
    "        return False\n",
    "\n",
    "    for i in range(2,ceil(np.sqrt(n))+1):\n",
    "        if n%i == 0:\n",
    "            return False\n",
    "    return True\n",
    "l=[]\n",
    "for i in range(1_000,10_000-3330*2):\n",
    "    if prime_verification(i):\n",
    "        if prime_verification(i+3330):\n",
    "            if check_premutation(i, i+3330):\n",
    "                if prime_verification(i+3330*2):\n",
    "                    if check_premutation(i,i+3330*2):\n",
    "                        l+=[i]\n",
    "int(str(l[1])+str(l[1]+3330)+str(l[1]+3330*2))"
   ]
  },
  {
   "cell_type": "markdown",
   "metadata": {},
   "source": [
    "# Problem 50 Consecutive prime sum\n",
    "\n",
    "[Link to problem 50](https://projecteuler.net/problem=50)"
   ]
  },
  {
   "cell_type": "code",
   "execution_count": null,
   "metadata": {},
   "outputs": [],
   "source": [
    "from sympy import sieve\n",
    "import sympy\n",
    "sieve._reset()\n",
    "sieve.extend_to_no(4000)\n",
    "a = list(sieve._list)[:-784]\n",
    "\n",
    "L = dict()\n",
    "out = 0\n",
    "n= 0 \n",
    "for i in range(len(a)-1):\n",
    "    for k in range(i+1,len(a)):\n",
    "        if sum(a[i:k])>1_000_000:\n",
    "            break\n",
    "            \n",
    "        if sympy.isprime(sum(a[i:k])):\n",
    "            L[i] = k\n",
    "            if len(a[i:k])>n:\n",
    "                n= len(a[i:k])\n",
    "                out = sum(a[i:k])\n",
    "        \n",
    "\n",
    "n, out"
   ]
  }
 ],
 "metadata": {
  "kernelspec": {
   "display_name": "Python 3",
   "language": "python",
   "name": "python3"
  },
  "language_info": {
   "codemirror_mode": {
    "name": "ipython",
    "version": 3
   },
   "file_extension": ".py",
   "mimetype": "text/x-python",
   "name": "python",
   "nbconvert_exporter": "python",
   "pygments_lexer": "ipython3",
   "version": "3.7.3"
  }
 },
 "nbformat": 4,
 "nbformat_minor": 4
}
